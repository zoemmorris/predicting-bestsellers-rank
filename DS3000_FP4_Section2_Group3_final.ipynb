{
 "cells": [
  {
   "cell_type": "markdown",
   "metadata": {},
   "source": [
    "<center> <h3>What Makes a Book a Bestseller? : Predicting a book's bestseller rank  </h3> </center>\n",
    "<center><h4>Audrey Gallier, Zoe Morris, Faith Occhipinti</h4></center>\n"
   ]
  },
  {
   "cell_type": "markdown",
   "metadata": {},
   "source": [
    "  "
   ]
  },
  {
   "cell_type": "markdown",
   "metadata": {},
   "source": [
    "<hr style=\"height:2px; border:none; color:black; background-color:black;\">"
   ]
  },
  {
   "cell_type": "markdown",
   "metadata": {},
   "source": [
    "#### Executive Summary:\n",
    "\n",
    "Our project is to analyze various features of books within a large book depository to see if we can use aspects of it to correctly classify where it falls on a bestseller's list. This is a supervised machine learning problem because we will be breaking the bestseller's rank into different ranges (bins), and predicting which bin a given book will fall into using classification algorithms. Our dataset consists of many books and their charateristics from the bookdepository.com website. In our research, we tested the correlation between these characteristics and a book's ranking on the bestsellers list, and compared kNN, Gaussian Naive Bayes, Multinomial Naive Bayes, Decision Tree Classifier, Random Forest Classifier, and Ada Boost Classifier. We found that Random Forest Classifer gave us the best acccuracy on our validation set and test set with 46.3% accuracy.\n"
   ]
  },
  {
   "cell_type": "markdown",
   "metadata": {},
   "source": [
    "<hr style=\"height:2px; border:none; color:black; background-color:black;\">"
   ]
  },
  {
   "cell_type": "markdown",
   "metadata": {},
   "source": [
    "## Outline\n",
    "1. <a href='#1'>INTRODUCTION</a>\n",
    "2. <a href='#2'>METHOD</a>\n",
    "3. <a href='#3'>RESULTS</a>\n",
    "4. <a href='#4'>DISCUSSION</a>"
   ]
  },
  {
   "cell_type": "markdown",
   "metadata": {},
   "source": [
    "<a id=\"1\"></a>\n",
    "<hr style=\"height:2px; border:none; color:black; background-color:black;\">"
   ]
  },
  {
   "cell_type": "markdown",
   "metadata": {},
   "source": [
    "## 1. INTRODUCTION"
   ]
  },
  {
   "cell_type": "markdown",
   "metadata": {},
   "source": [
    "**Problem Statement**\n",
    " \n",
    "Our project is to analyze various features of books within a large book depository to see if we can use aspects of it to correctly classify where it falls on a bestseller's list.\n",
    " \n",
    "This problem is of significance because if certain factors of a book can influence its capability to be a bestseller, our findings could be applied to future books to possibly predict how it may perform.\n",
    " \n",
    "Through our work we analyzed and cleaned data related to book features, and we used this to learn about what aspects of a published novel had the most correlation to how successful a book was monetarily, or how much of a bestseller it was.\n",
    " \n",
    "**Significance of the Problem**\n",
    " \n",
    "Our problem is important to tackle because seeing what features are most important to the bestseller status of a book, and further seeing if a book's bestseller status can be predicted using those, may be useful for trying to classify new unknown books into a bestseller capability, and may predict market trends.\n",
    " \n",
    "These insights could help to better evaluate books by more objective aspects, such as rating, and make sure that if it turns out features such as size of a book are heavily correlated with how well it sells, this can be accounted for.\n",
    " \n",
    "There has been some prior research in this area; in 2016, a novel called *The Bestseller Code: Anatomy of the Blockbuster Novel* was published, detailing a machine learning algorithm that was able to predict whether a book would become a bestseller or not with 80% accuracy. \n",
    " \n",
    "Phillips, S. (2016, November 07). Can Big Data Find the Next 'Harry Potter'? Retrieved December 10, 2020, from https://www.theatlantic.com/technology/archive/2016/09/bestseller-ometer/499256/\n",
    " \n",
    "**Questions/Hypothesis**\n",
    " \n",
    "Given the aforementioned problem and its importance, we set out to tackle the following questions:\n",
    "* Which machine learning algorithm will be the most effective at predicting our target variable?\n",
    "* Will some features play more heavily into our target variable than others?\n",
    "* How important will rating avg of a book be to its bestseller status?\n",
    " \n",
    "And we wish to test the following hypotheses:\n",
    "* We think that knn will not be very effective at predicting our target variable because many of our features are not numeric so they cannot be categorized as closer/farther as easily\n",
    "* We think that dimensions of the book may correlate to bestsellers rank, such as larger/smaller books rank higher\n",
    "* We think that rating average, publication date, and category will be some of the most predicting features towards our target variable\n",
    "\n",
    "With these as our hypotheses, our null hypotheses are as follows:\n",
    "* Knn will be no less effective than any other machine learning model.\n",
    "* Dimensions of a book will have no effect on its bestseller rank.\n",
    "* Rating average, publication date, and category will be no more effective at predicting bestseller rank than any other feature in our data."
   ]
  },
  {
   "cell_type": "markdown",
   "metadata": {},
   "source": [
    "<a id=\"2\"></a>\n",
    "<hr style=\"height:2px; border:none; color:black; background-color:black;\">"
   ]
  },
  {
   "cell_type": "markdown",
   "metadata": {},
   "source": [
    "## 2. METHOD"
   ]
  },
  {
   "cell_type": "markdown",
   "metadata": {},
   "source": [
    "### 2.1. Data Acquisition\n",
    "\n",
    "Our dataset consists of many books and their charateristics from the bookdepository.com website. The dataset was published\n",
    "by a data engineer named Panagiotis Simakis on Kaggle (https://www.kaggle.com/sp1thas/book-depository-dataset?select=dataset.csv)\n",
    "\n",
    "This dataset changed after we had initially downloaded it, so we uploaded our local csv files to Google Drive and imported from there (https://drive.google.com/drive/folders/1tHoHM6yZHyPvuFWRDs9xT6mAA0T_33A2?usp=sharing)\n",
    "\n",
    "There were originally 26 columns which included characteristics of a book both quantitative and qualitative.\n",
    "There were also 56010 rows, with each row representing a book.\n",
    "* Column names:\n",
    "    * authors: The authors of the book\n",
    "    * bestsellers-rank: The rank on the bestseller list –how it compares to other books \n",
    "    * categories: A list of topics/categories the book is about \n",
    "    * description: A summary of the book\n",
    "    * for-ages: Recommended age range\n",
    "    * publication-date: The date the book was published\n",
    "    * publisher: The publisher of the book\n",
    "    * rating-avg: The average rating for the book\n",
    "    * rating-count: The number of ratings the book received\n",
    "    * title: The title of the book\n",
    "    * lang: The language the book is written in\n",
    "    * dimension-z: The thickness of the book (in mm)\n",
    "    * dimension-x: The width of the book (in cm)\n",
    "    * dimension-y: The height of the book (in cm)\n",
    "    * edition: The edition of the book\n",
    "    * edition-satement: A statement for the book\n",
    "    * format: The format the book is in\n",
    "    * id: the book's unique ID\n",
    "    * illustrations-node: Notes on illustrations\n",
    "    * imprint: The book's imprint\n",
    "    * index-date: The date of the index\n",
    "    * isbn10: Identification number\n",
    "    * isbn13: Identification number\n",
    "    * publication-place: The place the book was published\n",
    "    * url: The book's URL on bookdepository.com\n",
    "    * weight: The weight of the book (in kg)"
   ]
  },
  {
   "cell_type": "markdown",
   "metadata": {},
   "source": [
    "### 2.2. Data Analysis\n",
    "\n",
    "Independent Variables: authors, categories, publication-date, publisher, rating-avg, rating-count, lang, volume, format, publication-place, weight.\n",
    "\n",
    "Dependent Variable: bestsellers-rank\n",
    "\n",
    "Predictive Model: Our feature variables are all of our IVs, and we will use them to try to predict the what bestseller's rank bin a given book will fall in. We think these features are important because they provide specific information about a book that can be quantified, and we believe they will be the most effective in predicted bestseller's rank.\n",
    "\n",
    "This is a supervised machine learning problem because we will be breaking the bestseller's rank into different ranges (bins), and predicting which bin a given book will fall into using classification algorithms.\n",
    "\n",
    "We will be using the following algorithms: \n",
    "* k-Nearest Neighbors: Predicts the target of the given data point by comparing the target values of the samples closest to it.\n",
    "* Gaussian Naive Bayes: Applies Bayes theorem to continuous features to calculate probabilities for classification.\n",
    "* Multinomial Naive Bayes: Applies Bayes theorem to discrete features to calculate probabilities for classification.\n",
    "* Decision Tree Classifier: A hierarchy of if/else questions asked of the data to lead it to a certain target bin.\n",
    "* Random Forest Classifier: Averages out mulitple decision trees for a more accurate prediction of the target bin.\n",
    "* AdaBoost Classifier: Runs multiple classifiers and adjusts the weights based on correct predictions."
   ]
  },
  {
   "cell_type": "markdown",
   "metadata": {},
   "source": [
    "<a id=\"3\"></a>\n",
    "<hr style=\"height:2px; border:none; color:black; background-color:black;\">"
   ]
  },
  {
   "cell_type": "markdown",
   "metadata": {},
   "source": [
    "## 3. RESULTS"
   ]
  },
  {
   "cell_type": "markdown",
   "metadata": {},
   "source": [
    "### 3.1. Data Wrangling"
   ]
  },
  {
   "cell_type": "markdown",
   "metadata": {},
   "source": [
    "#### Loading the Dataset\n",
    "Here, we loaded the 5 CSV files that make up our dataset, which we stored on Google Drive. We dropped columns we wanted to exclude from our analysis, and also dropped rows where bestsellers-rank or rating-count were null, because those rows would not have useful data for our model."
   ]
  },
  {
   "cell_type": "code",
   "execution_count": 54,
   "metadata": {},
   "outputs": [],
   "source": [
    "places_url = 'https://drive.google.com/file/d/1DAczq5Gkc1jgvEIoOcE-N_cVJ2KLZIN1/view?usp=sharing'\n",
    "authors_url = 'https://drive.google.com/file/d/1JR-hDVGhOarBPLALtd45vhcnhIJBvJ9Y/view?usp=sharing'\n",
    "formats_url = 'https://drive.google.com/file/d/1hAnxJ8E6lHehOKJLy7AgVx9DVRMYzIRA/view?usp=sharing'\n",
    "categories_url = 'https://drive.google.com/file/d/1N9VVNq1S0gBccibeHjJZ_N3DWd5hndOa/view?usp=sharing'\n",
    "dataset_url = 'https://drive.google.com/file/d/1qoKqlOGwPDRyZ1NQUZiCkMuH7ds-fthq/view?usp=sharing'\n",
    "\n",
    "def path(url):\n",
    "    return 'https://drive.google.com/uc?export=download&id='+url.split('/')[-2]"
   ]
  },
  {
   "cell_type": "code",
   "execution_count": 55,
   "metadata": {},
   "outputs": [
    {
     "data": {
      "text/html": [
       "<div>\n",
       "<style scoped>\n",
       "    .dataframe tbody tr th:only-of-type {\n",
       "        vertical-align: middle;\n",
       "    }\n",
       "\n",
       "    .dataframe tbody tr th {\n",
       "        vertical-align: top;\n",
       "    }\n",
       "\n",
       "    .dataframe thead th {\n",
       "        text-align: right;\n",
       "    }\n",
       "</style>\n",
       "<table border=\"1\" class=\"dataframe\">\n",
       "  <thead>\n",
       "    <tr style=\"text-align: right;\">\n",
       "      <th></th>\n",
       "      <th>authors</th>\n",
       "      <th>bestsellers-rank</th>\n",
       "      <th>categories</th>\n",
       "      <th>dimension-x</th>\n",
       "      <th>dimension-y</th>\n",
       "      <th>dimension-z</th>\n",
       "      <th>format</th>\n",
       "      <th>lang</th>\n",
       "      <th>publication-date</th>\n",
       "      <th>publication-place</th>\n",
       "      <th>rating-avg</th>\n",
       "      <th>rating-count</th>\n",
       "      <th>weight</th>\n",
       "    </tr>\n",
       "  </thead>\n",
       "  <tbody>\n",
       "    <tr>\n",
       "      <th>1</th>\n",
       "      <td>[2]</td>\n",
       "      <td>67532</td>\n",
       "      <td>[376, 378, 868, 873, 900, 2771, 3097, 2590]</td>\n",
       "      <td>140.0</td>\n",
       "      <td>210.0</td>\n",
       "      <td>18.0</td>\n",
       "      <td>1</td>\n",
       "      <td>en</td>\n",
       "      <td>2016-11-16</td>\n",
       "      <td>2.0</td>\n",
       "      <td>4.01</td>\n",
       "      <td>425.0</td>\n",
       "      <td>367.00</td>\n",
       "    </tr>\n",
       "    <tr>\n",
       "      <th>2</th>\n",
       "      <td>[3, 4]</td>\n",
       "      <td>150327</td>\n",
       "      <td>[2978, 2980]</td>\n",
       "      <td>193.0</td>\n",
       "      <td>197.0</td>\n",
       "      <td>21.0</td>\n",
       "      <td>1</td>\n",
       "      <td>en</td>\n",
       "      <td>2013-05-23</td>\n",
       "      <td>1.0</td>\n",
       "      <td>3.59</td>\n",
       "      <td>539.0</td>\n",
       "      <td>220.00</td>\n",
       "    </tr>\n",
       "    <tr>\n",
       "      <th>3</th>\n",
       "      <td>[5]</td>\n",
       "      <td>85902</td>\n",
       "      <td>[2948, 2953]</td>\n",
       "      <td>148.0</td>\n",
       "      <td>210.0</td>\n",
       "      <td>12.7</td>\n",
       "      <td>1</td>\n",
       "      <td>en</td>\n",
       "      <td>2017-11-14</td>\n",
       "      <td>2.0</td>\n",
       "      <td>3.66</td>\n",
       "      <td>9.0</td>\n",
       "      <td>771.11</td>\n",
       "    </tr>\n",
       "    <tr>\n",
       "      <th>4</th>\n",
       "      <td>[6]</td>\n",
       "      <td>54186</td>\n",
       "      <td>[2942, 2948, 2953]</td>\n",
       "      <td>155.0</td>\n",
       "      <td>215.0</td>\n",
       "      <td>4.0</td>\n",
       "      <td>1</td>\n",
       "      <td>en</td>\n",
       "      <td>2019-06-04</td>\n",
       "      <td>3.0</td>\n",
       "      <td>4.66</td>\n",
       "      <td>6.0</td>\n",
       "      <td>130.00</td>\n",
       "    </tr>\n",
       "    <tr>\n",
       "      <th>6</th>\n",
       "      <td>[8, 9]</td>\n",
       "      <td>187207</td>\n",
       "      <td>[368, 2637, 2649, 2661, 888]</td>\n",
       "      <td>154.0</td>\n",
       "      <td>229.0</td>\n",
       "      <td>10.0</td>\n",
       "      <td>1</td>\n",
       "      <td>en</td>\n",
       "      <td>2006-08-22</td>\n",
       "      <td>2.0</td>\n",
       "      <td>3.69</td>\n",
       "      <td>1628.0</td>\n",
       "      <td>318.00</td>\n",
       "    </tr>\n",
       "  </tbody>\n",
       "</table>\n",
       "</div>"
      ],
      "text/plain": [
       "  authors bestsellers-rank                                   categories  \\\n",
       "1     [2]            67532  [376, 378, 868, 873, 900, 2771, 3097, 2590]   \n",
       "2  [3, 4]           150327                                 [2978, 2980]   \n",
       "3     [5]            85902                                 [2948, 2953]   \n",
       "4     [6]            54186                           [2942, 2948, 2953]   \n",
       "6  [8, 9]           187207                 [368, 2637, 2649, 2661, 888]   \n",
       "\n",
       "   dimension-x  dimension-y  dimension-z format lang publication-date  \\\n",
       "1        140.0        210.0         18.0      1   en       2016-11-16   \n",
       "2        193.0        197.0         21.0      1   en       2013-05-23   \n",
       "3        148.0        210.0         12.7      1   en       2017-11-14   \n",
       "4        155.0        215.0          4.0      1   en       2019-06-04   \n",
       "6        154.0        229.0         10.0      1   en       2006-08-22   \n",
       "\n",
       "   publication-place  rating-avg  rating-count  weight  \n",
       "1                2.0        4.01         425.0  367.00  \n",
       "2                1.0        3.59         539.0  220.00  \n",
       "3                2.0        3.66           9.0  771.11  \n",
       "4                3.0        4.66           6.0  130.00  \n",
       "6                2.0        3.69        1628.0  318.00  "
      ]
     },
     "execution_count": 55,
     "metadata": {},
     "output_type": "execute_result"
    }
   ],
   "source": [
    "import pandas as pd\n",
    "from sklearn.preprocessing import OneHotEncoder\n",
    "\n",
    "df_dataset = pd.read_csv(path(dataset_url))\n",
    "df_authors = pd.read_csv(path(authors_url))\n",
    "df_categories = pd.read_csv(path(categories_url))\n",
    "df_formats = pd.read_csv(path(formats_url))\n",
    "df_places = pd.read_csv(path(places_url))\n",
    "df_dataset_withranks = df_dataset.dropna(subset=['bestsellers-rank', 'rating-count'])\n",
    "df_dataset_withranks = df_dataset_withranks.drop(columns=['description', 'edition', 'edition-statement', 'for-ages', 'id', 'illustrations-note', 'imprint', 'index-date', 'isbn10', 'isbn13', 'title', 'url'])\n",
    "\n",
    "df_dataset_withranks.head()"
   ]
  },
  {
   "cell_type": "markdown",
   "metadata": {},
   "source": [
    "#### Data Wrangling\n",
    "Here, we transformed our features into numerical representations that our models will be able to use.\n",
    "\n",
    "* For 'authors' and 'categories', we extracted the first integer from the string representation of an array using the get_first_int function. Because these are text-based (values in separate dataframes), we chose not to aggregate the array values and simply to sample the first one."
   ]
  },
  {
   "cell_type": "code",
   "execution_count": 56,
   "metadata": {},
   "outputs": [
    {
     "data": {
      "text/html": [
       "<div>\n",
       "<style scoped>\n",
       "    .dataframe tbody tr th:only-of-type {\n",
       "        vertical-align: middle;\n",
       "    }\n",
       "\n",
       "    .dataframe tbody tr th {\n",
       "        vertical-align: top;\n",
       "    }\n",
       "\n",
       "    .dataframe thead th {\n",
       "        text-align: right;\n",
       "    }\n",
       "</style>\n",
       "<table border=\"1\" class=\"dataframe\">\n",
       "  <thead>\n",
       "    <tr style=\"text-align: right;\">\n",
       "      <th></th>\n",
       "      <th>authors</th>\n",
       "      <th>bestsellers-rank</th>\n",
       "      <th>categories</th>\n",
       "      <th>dimension-x</th>\n",
       "      <th>dimension-y</th>\n",
       "      <th>dimension-z</th>\n",
       "      <th>format</th>\n",
       "      <th>lang</th>\n",
       "      <th>publication-date</th>\n",
       "      <th>publication-place</th>\n",
       "      <th>rating-avg</th>\n",
       "      <th>rating-count</th>\n",
       "      <th>weight</th>\n",
       "    </tr>\n",
       "  </thead>\n",
       "  <tbody>\n",
       "    <tr>\n",
       "      <th>1</th>\n",
       "      <td>2</td>\n",
       "      <td>67532</td>\n",
       "      <td>376</td>\n",
       "      <td>140.0</td>\n",
       "      <td>210.0</td>\n",
       "      <td>18.0</td>\n",
       "      <td>1</td>\n",
       "      <td>en</td>\n",
       "      <td>2016-11-16</td>\n",
       "      <td>2.0</td>\n",
       "      <td>4.01</td>\n",
       "      <td>425.0</td>\n",
       "      <td>367.00</td>\n",
       "    </tr>\n",
       "    <tr>\n",
       "      <th>2</th>\n",
       "      <td>3</td>\n",
       "      <td>150327</td>\n",
       "      <td>2978</td>\n",
       "      <td>193.0</td>\n",
       "      <td>197.0</td>\n",
       "      <td>21.0</td>\n",
       "      <td>1</td>\n",
       "      <td>en</td>\n",
       "      <td>2013-05-23</td>\n",
       "      <td>1.0</td>\n",
       "      <td>3.59</td>\n",
       "      <td>539.0</td>\n",
       "      <td>220.00</td>\n",
       "    </tr>\n",
       "    <tr>\n",
       "      <th>3</th>\n",
       "      <td>5</td>\n",
       "      <td>85902</td>\n",
       "      <td>2948</td>\n",
       "      <td>148.0</td>\n",
       "      <td>210.0</td>\n",
       "      <td>12.7</td>\n",
       "      <td>1</td>\n",
       "      <td>en</td>\n",
       "      <td>2017-11-14</td>\n",
       "      <td>2.0</td>\n",
       "      <td>3.66</td>\n",
       "      <td>9.0</td>\n",
       "      <td>771.11</td>\n",
       "    </tr>\n",
       "    <tr>\n",
       "      <th>4</th>\n",
       "      <td>6</td>\n",
       "      <td>54186</td>\n",
       "      <td>2942</td>\n",
       "      <td>155.0</td>\n",
       "      <td>215.0</td>\n",
       "      <td>4.0</td>\n",
       "      <td>1</td>\n",
       "      <td>en</td>\n",
       "      <td>2019-06-04</td>\n",
       "      <td>3.0</td>\n",
       "      <td>4.66</td>\n",
       "      <td>6.0</td>\n",
       "      <td>130.00</td>\n",
       "    </tr>\n",
       "    <tr>\n",
       "      <th>6</th>\n",
       "      <td>8</td>\n",
       "      <td>187207</td>\n",
       "      <td>368</td>\n",
       "      <td>154.0</td>\n",
       "      <td>229.0</td>\n",
       "      <td>10.0</td>\n",
       "      <td>1</td>\n",
       "      <td>en</td>\n",
       "      <td>2006-08-22</td>\n",
       "      <td>2.0</td>\n",
       "      <td>3.69</td>\n",
       "      <td>1628.0</td>\n",
       "      <td>318.00</td>\n",
       "    </tr>\n",
       "  </tbody>\n",
       "</table>\n",
       "</div>"
      ],
      "text/plain": [
       "   authors bestsellers-rank  categories  dimension-x  dimension-y  \\\n",
       "1        2            67532         376        140.0        210.0   \n",
       "2        3           150327        2978        193.0        197.0   \n",
       "3        5            85902        2948        148.0        210.0   \n",
       "4        6            54186        2942        155.0        215.0   \n",
       "6        8           187207         368        154.0        229.0   \n",
       "\n",
       "   dimension-z format lang publication-date  publication-place  rating-avg  \\\n",
       "1         18.0      1   en       2016-11-16                2.0        4.01   \n",
       "2         21.0      1   en       2013-05-23                1.0        3.59   \n",
       "3         12.7      1   en       2017-11-14                2.0        3.66   \n",
       "4          4.0      1   en       2019-06-04                3.0        4.66   \n",
       "6         10.0      1   en       2006-08-22                2.0        3.69   \n",
       "\n",
       "   rating-count  weight  \n",
       "1         425.0  367.00  \n",
       "2         539.0  220.00  \n",
       "3           9.0  771.11  \n",
       "4           6.0  130.00  \n",
       "6        1628.0  318.00  "
      ]
     },
     "execution_count": 56,
     "metadata": {},
     "output_type": "execute_result"
    }
   ],
   "source": [
    "#Function to get the first number from a list. If the list is empty, return 0\n",
    "def get_first_int(author_list):\n",
    "    authors = author_list.split(',')\n",
    "    first_author = authors[0].replace('[', \"\").replace(']', \"\")\n",
    "    try:\n",
    "        return int(first_author)\n",
    "    except:\n",
    "        return 0\n",
    "\n",
    "#Authors \n",
    "df_dataset_withranks['authors'] = df_dataset_withranks['authors'].apply(get_first_int).copy()\n",
    "#Categories\n",
    "df_dataset_withranks['categories'] = df_dataset_withranks['categories'].apply(get_first_int).copy()\n",
    "\n",
    "df_dataset_withranks.head()"
   ]
  },
  {
   "cell_type": "markdown",
   "metadata": {},
   "source": [
    "* For 'format', we converted all values in the column to integer data types, and dropped all rows whose format could not successfully be converted."
   ]
  },
  {
   "cell_type": "code",
   "execution_count": 57,
   "metadata": {},
   "outputs": [
    {
     "data": {
      "text/html": [
       "<div>\n",
       "<style scoped>\n",
       "    .dataframe tbody tr th:only-of-type {\n",
       "        vertical-align: middle;\n",
       "    }\n",
       "\n",
       "    .dataframe tbody tr th {\n",
       "        vertical-align: top;\n",
       "    }\n",
       "\n",
       "    .dataframe thead th {\n",
       "        text-align: right;\n",
       "    }\n",
       "</style>\n",
       "<table border=\"1\" class=\"dataframe\">\n",
       "  <thead>\n",
       "    <tr style=\"text-align: right;\">\n",
       "      <th></th>\n",
       "      <th>authors</th>\n",
       "      <th>bestsellers-rank</th>\n",
       "      <th>categories</th>\n",
       "      <th>dimension-x</th>\n",
       "      <th>dimension-y</th>\n",
       "      <th>dimension-z</th>\n",
       "      <th>format</th>\n",
       "      <th>lang</th>\n",
       "      <th>publication-date</th>\n",
       "      <th>publication-place</th>\n",
       "      <th>rating-avg</th>\n",
       "      <th>rating-count</th>\n",
       "      <th>weight</th>\n",
       "    </tr>\n",
       "  </thead>\n",
       "  <tbody>\n",
       "    <tr>\n",
       "      <th>1</th>\n",
       "      <td>2</td>\n",
       "      <td>67532</td>\n",
       "      <td>376</td>\n",
       "      <td>140.0</td>\n",
       "      <td>210.0</td>\n",
       "      <td>18.0</td>\n",
       "      <td>1</td>\n",
       "      <td>en</td>\n",
       "      <td>2016-11-16</td>\n",
       "      <td>2.0</td>\n",
       "      <td>4.01</td>\n",
       "      <td>425.0</td>\n",
       "      <td>367.00</td>\n",
       "    </tr>\n",
       "    <tr>\n",
       "      <th>2</th>\n",
       "      <td>3</td>\n",
       "      <td>150327</td>\n",
       "      <td>2978</td>\n",
       "      <td>193.0</td>\n",
       "      <td>197.0</td>\n",
       "      <td>21.0</td>\n",
       "      <td>1</td>\n",
       "      <td>en</td>\n",
       "      <td>2013-05-23</td>\n",
       "      <td>1.0</td>\n",
       "      <td>3.59</td>\n",
       "      <td>539.0</td>\n",
       "      <td>220.00</td>\n",
       "    </tr>\n",
       "    <tr>\n",
       "      <th>3</th>\n",
       "      <td>5</td>\n",
       "      <td>85902</td>\n",
       "      <td>2948</td>\n",
       "      <td>148.0</td>\n",
       "      <td>210.0</td>\n",
       "      <td>12.7</td>\n",
       "      <td>1</td>\n",
       "      <td>en</td>\n",
       "      <td>2017-11-14</td>\n",
       "      <td>2.0</td>\n",
       "      <td>3.66</td>\n",
       "      <td>9.0</td>\n",
       "      <td>771.11</td>\n",
       "    </tr>\n",
       "    <tr>\n",
       "      <th>4</th>\n",
       "      <td>6</td>\n",
       "      <td>54186</td>\n",
       "      <td>2942</td>\n",
       "      <td>155.0</td>\n",
       "      <td>215.0</td>\n",
       "      <td>4.0</td>\n",
       "      <td>1</td>\n",
       "      <td>en</td>\n",
       "      <td>2019-06-04</td>\n",
       "      <td>3.0</td>\n",
       "      <td>4.66</td>\n",
       "      <td>6.0</td>\n",
       "      <td>130.00</td>\n",
       "    </tr>\n",
       "    <tr>\n",
       "      <th>6</th>\n",
       "      <td>8</td>\n",
       "      <td>187207</td>\n",
       "      <td>368</td>\n",
       "      <td>154.0</td>\n",
       "      <td>229.0</td>\n",
       "      <td>10.0</td>\n",
       "      <td>1</td>\n",
       "      <td>en</td>\n",
       "      <td>2006-08-22</td>\n",
       "      <td>2.0</td>\n",
       "      <td>3.69</td>\n",
       "      <td>1628.0</td>\n",
       "      <td>318.00</td>\n",
       "    </tr>\n",
       "  </tbody>\n",
       "</table>\n",
       "</div>"
      ],
      "text/plain": [
       "   authors bestsellers-rank  categories  dimension-x  dimension-y  \\\n",
       "1        2            67532         376        140.0        210.0   \n",
       "2        3           150327        2978        193.0        197.0   \n",
       "3        5            85902        2948        148.0        210.0   \n",
       "4        6            54186        2942        155.0        215.0   \n",
       "6        8           187207         368        154.0        229.0   \n",
       "\n",
       "   dimension-z  format lang publication-date  publication-place  rating-avg  \\\n",
       "1         18.0       1   en       2016-11-16                2.0        4.01   \n",
       "2         21.0       1   en       2013-05-23                1.0        3.59   \n",
       "3         12.7       1   en       2017-11-14                2.0        3.66   \n",
       "4          4.0       1   en       2019-06-04                3.0        4.66   \n",
       "6         10.0       1   en       2006-08-22                2.0        3.69   \n",
       "\n",
       "   rating-count  weight  \n",
       "1         425.0  367.00  \n",
       "2         539.0  220.00  \n",
       "3           9.0  771.11  \n",
       "4           6.0  130.00  \n",
       "6        1628.0  318.00  "
      ]
     },
     "execution_count": 57,
     "metadata": {},
     "output_type": "execute_result"
    }
   ],
   "source": [
    "#A function to convert items in the format column to integers. This was needed because the format column included\n",
    "#a mixture of different types including strings. We dropped the rows with string values in that column.\n",
    "def convert_to_int(obj):\n",
    "    try:\n",
    "        return int(obj)\n",
    "    except:\n",
    "        return 0\n",
    "df_dataset_withranks['format'] = df_dataset_withranks['format'].apply(convert_to_int).copy()\n",
    "filtered_df = df_dataset_withranks[df_dataset_withranks['format'] != 0]\n",
    "\n",
    "df_dataset_withranks.head()"
   ]
  },
  {
   "cell_type": "markdown",
   "metadata": {},
   "source": [
    "* For the dimensions, we multiplied all three together to create a 'volume' feature, then deleted dimensions x and y, keeping dimension z as its own feature because we think the thickness of a book may correlate with its rank.\n",
    "* At this point, we dropped all the rows that still contained a NaN."
   ]
  },
  {
   "cell_type": "code",
   "execution_count": 58,
   "metadata": {},
   "outputs": [
    {
     "name": "stderr",
     "output_type": "stream",
     "text": [
      "<ipython-input-58-210c84903c1e>:3: SettingWithCopyWarning:\n",
      "\n",
      "\n",
      "A value is trying to be set on a copy of a slice from a DataFrame.\n",
      "Try using .loc[row_indexer,col_indexer] = value instead\n",
      "\n",
      "See the caveats in the documentation: https://pandas.pydata.org/pandas-docs/stable/user_guide/indexing.html#returning-a-view-versus-a-copy\n",
      "\n",
      "<ipython-input-58-210c84903c1e>:4: SettingWithCopyWarning:\n",
      "\n",
      "\n",
      "A value is trying to be set on a copy of a slice from a DataFrame.\n",
      "Try using .loc[row_indexer,col_indexer] = value instead\n",
      "\n",
      "See the caveats in the documentation: https://pandas.pydata.org/pandas-docs/stable/user_guide/indexing.html#returning-a-view-versus-a-copy\n",
      "\n"
     ]
    },
    {
     "data": {
      "text/html": [
       "<div>\n",
       "<style scoped>\n",
       "    .dataframe tbody tr th:only-of-type {\n",
       "        vertical-align: middle;\n",
       "    }\n",
       "\n",
       "    .dataframe tbody tr th {\n",
       "        vertical-align: top;\n",
       "    }\n",
       "\n",
       "    .dataframe thead th {\n",
       "        text-align: right;\n",
       "    }\n",
       "</style>\n",
       "<table border=\"1\" class=\"dataframe\">\n",
       "  <thead>\n",
       "    <tr style=\"text-align: right;\">\n",
       "      <th></th>\n",
       "      <th>authors</th>\n",
       "      <th>bestsellers-rank</th>\n",
       "      <th>categories</th>\n",
       "      <th>dimension-z</th>\n",
       "      <th>format</th>\n",
       "      <th>lang</th>\n",
       "      <th>publication-date</th>\n",
       "      <th>publication-place</th>\n",
       "      <th>rating-avg</th>\n",
       "      <th>rating-count</th>\n",
       "      <th>weight</th>\n",
       "      <th>volume</th>\n",
       "    </tr>\n",
       "  </thead>\n",
       "  <tbody>\n",
       "    <tr>\n",
       "      <th>1</th>\n",
       "      <td>2</td>\n",
       "      <td>67532</td>\n",
       "      <td>376</td>\n",
       "      <td>1.80</td>\n",
       "      <td>1</td>\n",
       "      <td>en</td>\n",
       "      <td>2016-11-16</td>\n",
       "      <td>2.0</td>\n",
       "      <td>4.01</td>\n",
       "      <td>425.0</td>\n",
       "      <td>367.00</td>\n",
       "      <td>52920.0</td>\n",
       "    </tr>\n",
       "    <tr>\n",
       "      <th>2</th>\n",
       "      <td>3</td>\n",
       "      <td>150327</td>\n",
       "      <td>2978</td>\n",
       "      <td>2.10</td>\n",
       "      <td>1</td>\n",
       "      <td>en</td>\n",
       "      <td>2013-05-23</td>\n",
       "      <td>1.0</td>\n",
       "      <td>3.59</td>\n",
       "      <td>539.0</td>\n",
       "      <td>220.00</td>\n",
       "      <td>79844.1</td>\n",
       "    </tr>\n",
       "    <tr>\n",
       "      <th>3</th>\n",
       "      <td>5</td>\n",
       "      <td>85902</td>\n",
       "      <td>2948</td>\n",
       "      <td>1.27</td>\n",
       "      <td>1</td>\n",
       "      <td>en</td>\n",
       "      <td>2017-11-14</td>\n",
       "      <td>2.0</td>\n",
       "      <td>3.66</td>\n",
       "      <td>9.0</td>\n",
       "      <td>771.11</td>\n",
       "      <td>39471.6</td>\n",
       "    </tr>\n",
       "    <tr>\n",
       "      <th>4</th>\n",
       "      <td>6</td>\n",
       "      <td>54186</td>\n",
       "      <td>2942</td>\n",
       "      <td>0.40</td>\n",
       "      <td>1</td>\n",
       "      <td>en</td>\n",
       "      <td>2019-06-04</td>\n",
       "      <td>3.0</td>\n",
       "      <td>4.66</td>\n",
       "      <td>6.0</td>\n",
       "      <td>130.00</td>\n",
       "      <td>13330.0</td>\n",
       "    </tr>\n",
       "    <tr>\n",
       "      <th>6</th>\n",
       "      <td>8</td>\n",
       "      <td>187207</td>\n",
       "      <td>368</td>\n",
       "      <td>1.00</td>\n",
       "      <td>1</td>\n",
       "      <td>en</td>\n",
       "      <td>2006-08-22</td>\n",
       "      <td>2.0</td>\n",
       "      <td>3.69</td>\n",
       "      <td>1628.0</td>\n",
       "      <td>318.00</td>\n",
       "      <td>35266.0</td>\n",
       "    </tr>\n",
       "  </tbody>\n",
       "</table>\n",
       "</div>"
      ],
      "text/plain": [
       "   authors bestsellers-rank  categories  dimension-z  format lang  \\\n",
       "1        2            67532         376         1.80       1   en   \n",
       "2        3           150327        2978         2.10       1   en   \n",
       "3        5            85902        2948         1.27       1   en   \n",
       "4        6            54186        2942         0.40       1   en   \n",
       "6        8           187207         368         1.00       1   en   \n",
       "\n",
       "  publication-date  publication-place  rating-avg  rating-count  weight  \\\n",
       "1       2016-11-16                2.0        4.01         425.0  367.00   \n",
       "2       2013-05-23                1.0        3.59         539.0  220.00   \n",
       "3       2017-11-14                2.0        3.66           9.0  771.11   \n",
       "4       2019-06-04                3.0        4.66           6.0  130.00   \n",
       "6       2006-08-22                2.0        3.69        1628.0  318.00   \n",
       "\n",
       "    volume  \n",
       "1  52920.0  \n",
       "2  79844.1  \n",
       "3  39471.6  \n",
       "4  13330.0  \n",
       "6  35266.0  "
      ]
     },
     "execution_count": 58,
     "metadata": {},
     "output_type": "execute_result"
    }
   ],
   "source": [
    "#Combining dimensions\n",
    "\n",
    "filtered_df['dimension-z'] = filtered_df['dimension-z'] / 10\n",
    "filtered_df['volume'] = filtered_df['dimension-x'] * filtered_df['dimension-y'] * filtered_df['dimension-z']\n",
    "filtered_df = filtered_df.drop(columns=['dimension-x', 'dimension-y'])\n",
    "\n",
    "filtered_df.dropna(inplace=True)\n",
    "\n",
    "filtered_df.head()"
   ]
  },
  {
   "cell_type": "markdown",
   "metadata": {},
   "source": [
    "* The 'publication-date' and 'bestsellers-rank' columns were String types and had some punctuation, so we wrote functions to convert them into integers."
   ]
  },
  {
   "cell_type": "code",
   "execution_count": 59,
   "metadata": {},
   "outputs": [
    {
     "data": {
      "text/html": [
       "<div>\n",
       "<style scoped>\n",
       "    .dataframe tbody tr th:only-of-type {\n",
       "        vertical-align: middle;\n",
       "    }\n",
       "\n",
       "    .dataframe tbody tr th {\n",
       "        vertical-align: top;\n",
       "    }\n",
       "\n",
       "    .dataframe thead th {\n",
       "        text-align: right;\n",
       "    }\n",
       "</style>\n",
       "<table border=\"1\" class=\"dataframe\">\n",
       "  <thead>\n",
       "    <tr style=\"text-align: right;\">\n",
       "      <th></th>\n",
       "      <th>authors</th>\n",
       "      <th>bestsellers-rank</th>\n",
       "      <th>categories</th>\n",
       "      <th>dimension-z</th>\n",
       "      <th>format</th>\n",
       "      <th>lang</th>\n",
       "      <th>publication-date</th>\n",
       "      <th>publication-place</th>\n",
       "      <th>rating-avg</th>\n",
       "      <th>rating-count</th>\n",
       "      <th>weight</th>\n",
       "      <th>volume</th>\n",
       "    </tr>\n",
       "  </thead>\n",
       "  <tbody>\n",
       "    <tr>\n",
       "      <th>1</th>\n",
       "      <td>2</td>\n",
       "      <td>67532</td>\n",
       "      <td>376</td>\n",
       "      <td>1.80</td>\n",
       "      <td>1</td>\n",
       "      <td>en</td>\n",
       "      <td>20161116</td>\n",
       "      <td>2.0</td>\n",
       "      <td>4.01</td>\n",
       "      <td>425.0</td>\n",
       "      <td>367.00</td>\n",
       "      <td>52920.0</td>\n",
       "    </tr>\n",
       "    <tr>\n",
       "      <th>2</th>\n",
       "      <td>3</td>\n",
       "      <td>150327</td>\n",
       "      <td>2978</td>\n",
       "      <td>2.10</td>\n",
       "      <td>1</td>\n",
       "      <td>en</td>\n",
       "      <td>20130523</td>\n",
       "      <td>1.0</td>\n",
       "      <td>3.59</td>\n",
       "      <td>539.0</td>\n",
       "      <td>220.00</td>\n",
       "      <td>79844.1</td>\n",
       "    </tr>\n",
       "    <tr>\n",
       "      <th>3</th>\n",
       "      <td>5</td>\n",
       "      <td>85902</td>\n",
       "      <td>2948</td>\n",
       "      <td>1.27</td>\n",
       "      <td>1</td>\n",
       "      <td>en</td>\n",
       "      <td>20171114</td>\n",
       "      <td>2.0</td>\n",
       "      <td>3.66</td>\n",
       "      <td>9.0</td>\n",
       "      <td>771.11</td>\n",
       "      <td>39471.6</td>\n",
       "    </tr>\n",
       "    <tr>\n",
       "      <th>4</th>\n",
       "      <td>6</td>\n",
       "      <td>54186</td>\n",
       "      <td>2942</td>\n",
       "      <td>0.40</td>\n",
       "      <td>1</td>\n",
       "      <td>en</td>\n",
       "      <td>20190604</td>\n",
       "      <td>3.0</td>\n",
       "      <td>4.66</td>\n",
       "      <td>6.0</td>\n",
       "      <td>130.00</td>\n",
       "      <td>13330.0</td>\n",
       "    </tr>\n",
       "    <tr>\n",
       "      <th>6</th>\n",
       "      <td>8</td>\n",
       "      <td>187207</td>\n",
       "      <td>368</td>\n",
       "      <td>1.00</td>\n",
       "      <td>1</td>\n",
       "      <td>en</td>\n",
       "      <td>20060822</td>\n",
       "      <td>2.0</td>\n",
       "      <td>3.69</td>\n",
       "      <td>1628.0</td>\n",
       "      <td>318.00</td>\n",
       "      <td>35266.0</td>\n",
       "    </tr>\n",
       "  </tbody>\n",
       "</table>\n",
       "</div>"
      ],
      "text/plain": [
       "   authors  bestsellers-rank  categories  dimension-z  format lang  \\\n",
       "1        2             67532         376         1.80       1   en   \n",
       "2        3            150327        2978         2.10       1   en   \n",
       "3        5             85902        2948         1.27       1   en   \n",
       "4        6             54186        2942         0.40       1   en   \n",
       "6        8            187207         368         1.00       1   en   \n",
       "\n",
       "   publication-date  publication-place  rating-avg  rating-count  weight  \\\n",
       "1          20161116                2.0        4.01         425.0  367.00   \n",
       "2          20130523                1.0        3.59         539.0  220.00   \n",
       "3          20171114                2.0        3.66           9.0  771.11   \n",
       "4          20190604                3.0        4.66           6.0  130.00   \n",
       "6          20060822                2.0        3.69        1628.0  318.00   \n",
       "\n",
       "    volume  \n",
       "1  52920.0  \n",
       "2  79844.1  \n",
       "3  39471.6  \n",
       "4  13330.0  \n",
       "6  35266.0  "
      ]
     },
     "execution_count": 59,
     "metadata": {},
     "output_type": "execute_result"
    }
   ],
   "source": [
    "def date_to_int(date):\n",
    "    return int(date.replace('/', \"\").replace('-', \"\"))\n",
    "filtered_df['publication-date'] = filtered_df['publication-date'].apply(date_to_int).copy()\n",
    "\n",
    "def rank_to_int(rank):\n",
    "    return int(rank.replace(\",\", \"\"))\n",
    "filtered_df['bestsellers-rank'] = filtered_df['bestsellers-rank'].apply(rank_to_int).copy()\n",
    "\n",
    "filtered_df.head()"
   ]
  },
  {
   "cell_type": "markdown",
   "metadata": {},
   "source": [
    "#### Data Preprocessing\n",
    "* When necessary, we preprocessed our variables in the Data Wrangling section.\n",
    "* We opted not to perform data normalization because the different columns are so unique and are a mix of categorical and continuous, plus our model will be categorical so scaling does not apply to our question. Our target is also not extremely imbalanced since we create the bins ourselves."
   ]
  },
  {
   "cell_type": "markdown",
   "metadata": {},
   "source": [
    "#### Feature Extraction\n",
    "\n",
    "* We used one-hot encoding on the 'lang' column to get 5 new features indicating whether a book was written in one of the top 4 languages, then dropped the 'lang' column. We did this so that the categorical language variable can be used as a numerical feature."
   ]
  },
  {
   "cell_type": "code",
   "execution_count": 60,
   "metadata": {},
   "outputs": [
    {
     "data": {
      "text/html": [
       "<div>\n",
       "<style scoped>\n",
       "    .dataframe tbody tr th:only-of-type {\n",
       "        vertical-align: middle;\n",
       "    }\n",
       "\n",
       "    .dataframe tbody tr th {\n",
       "        vertical-align: top;\n",
       "    }\n",
       "\n",
       "    .dataframe thead th {\n",
       "        text-align: right;\n",
       "    }\n",
       "</style>\n",
       "<table border=\"1\" class=\"dataframe\">\n",
       "  <thead>\n",
       "    <tr style=\"text-align: right;\">\n",
       "      <th></th>\n",
       "      <th>authors</th>\n",
       "      <th>bestsellers-rank</th>\n",
       "      <th>categories</th>\n",
       "      <th>dimension-z</th>\n",
       "      <th>format</th>\n",
       "      <th>publication-date</th>\n",
       "      <th>publication-place</th>\n",
       "      <th>rating-avg</th>\n",
       "      <th>rating-count</th>\n",
       "      <th>weight</th>\n",
       "      <th>volume</th>\n",
       "      <th>x0_en</th>\n",
       "      <th>x0_es</th>\n",
       "      <th>x0_fr</th>\n",
       "      <th>x0_pl</th>\n",
       "      <th>x0_other</th>\n",
       "    </tr>\n",
       "  </thead>\n",
       "  <tbody>\n",
       "    <tr>\n",
       "      <th>1</th>\n",
       "      <td>2</td>\n",
       "      <td>67532</td>\n",
       "      <td>376</td>\n",
       "      <td>1.80</td>\n",
       "      <td>1</td>\n",
       "      <td>20161116</td>\n",
       "      <td>2.0</td>\n",
       "      <td>4.01</td>\n",
       "      <td>425.0</td>\n",
       "      <td>367.00</td>\n",
       "      <td>52920.0</td>\n",
       "      <td>1.0</td>\n",
       "      <td>0.0</td>\n",
       "      <td>0.0</td>\n",
       "      <td>0.0</td>\n",
       "      <td>0.0</td>\n",
       "    </tr>\n",
       "    <tr>\n",
       "      <th>2</th>\n",
       "      <td>3</td>\n",
       "      <td>150327</td>\n",
       "      <td>2978</td>\n",
       "      <td>2.10</td>\n",
       "      <td>1</td>\n",
       "      <td>20130523</td>\n",
       "      <td>1.0</td>\n",
       "      <td>3.59</td>\n",
       "      <td>539.0</td>\n",
       "      <td>220.00</td>\n",
       "      <td>79844.1</td>\n",
       "      <td>1.0</td>\n",
       "      <td>0.0</td>\n",
       "      <td>0.0</td>\n",
       "      <td>0.0</td>\n",
       "      <td>0.0</td>\n",
       "    </tr>\n",
       "    <tr>\n",
       "      <th>3</th>\n",
       "      <td>5</td>\n",
       "      <td>85902</td>\n",
       "      <td>2948</td>\n",
       "      <td>1.27</td>\n",
       "      <td>1</td>\n",
       "      <td>20171114</td>\n",
       "      <td>2.0</td>\n",
       "      <td>3.66</td>\n",
       "      <td>9.0</td>\n",
       "      <td>771.11</td>\n",
       "      <td>39471.6</td>\n",
       "      <td>1.0</td>\n",
       "      <td>0.0</td>\n",
       "      <td>0.0</td>\n",
       "      <td>0.0</td>\n",
       "      <td>0.0</td>\n",
       "    </tr>\n",
       "    <tr>\n",
       "      <th>4</th>\n",
       "      <td>6</td>\n",
       "      <td>54186</td>\n",
       "      <td>2942</td>\n",
       "      <td>0.40</td>\n",
       "      <td>1</td>\n",
       "      <td>20190604</td>\n",
       "      <td>3.0</td>\n",
       "      <td>4.66</td>\n",
       "      <td>6.0</td>\n",
       "      <td>130.00</td>\n",
       "      <td>13330.0</td>\n",
       "      <td>1.0</td>\n",
       "      <td>0.0</td>\n",
       "      <td>0.0</td>\n",
       "      <td>0.0</td>\n",
       "      <td>0.0</td>\n",
       "    </tr>\n",
       "    <tr>\n",
       "      <th>6</th>\n",
       "      <td>8</td>\n",
       "      <td>187207</td>\n",
       "      <td>368</td>\n",
       "      <td>1.00</td>\n",
       "      <td>1</td>\n",
       "      <td>20060822</td>\n",
       "      <td>2.0</td>\n",
       "      <td>3.69</td>\n",
       "      <td>1628.0</td>\n",
       "      <td>318.00</td>\n",
       "      <td>35266.0</td>\n",
       "      <td>1.0</td>\n",
       "      <td>0.0</td>\n",
       "      <td>0.0</td>\n",
       "      <td>0.0</td>\n",
       "      <td>0.0</td>\n",
       "    </tr>\n",
       "  </tbody>\n",
       "</table>\n",
       "</div>"
      ],
      "text/plain": [
       "   authors  bestsellers-rank  categories  dimension-z  format  \\\n",
       "1        2             67532         376         1.80       1   \n",
       "2        3            150327        2978         2.10       1   \n",
       "3        5             85902        2948         1.27       1   \n",
       "4        6             54186        2942         0.40       1   \n",
       "6        8            187207         368         1.00       1   \n",
       "\n",
       "   publication-date  publication-place  rating-avg  rating-count  weight  \\\n",
       "1          20161116                2.0        4.01         425.0  367.00   \n",
       "2          20130523                1.0        3.59         539.0  220.00   \n",
       "3          20171114                2.0        3.66           9.0  771.11   \n",
       "4          20190604                3.0        4.66           6.0  130.00   \n",
       "6          20060822                2.0        3.69        1628.0  318.00   \n",
       "\n",
       "    volume  x0_en  x0_es  x0_fr  x0_pl  x0_other  \n",
       "1  52920.0    1.0    0.0    0.0    0.0       0.0  \n",
       "2  79844.1    1.0    0.0    0.0    0.0       0.0  \n",
       "3  39471.6    1.0    0.0    0.0    0.0       0.0  \n",
       "4  13330.0    1.0    0.0    0.0    0.0       0.0  \n",
       "6  35266.0    1.0    0.0    0.0    0.0       0.0  "
      ]
     },
     "execution_count": 60,
     "metadata": {},
     "output_type": "execute_result"
    }
   ],
   "source": [
    "#One hot encoding language\n",
    "\n",
    "#A function to return one of five options for a language\n",
    "def top_five(language):\n",
    "    if (language in ['en', 'pl', 'es', 'fr']):\n",
    "        return language\n",
    "    else:\n",
    "        return \"other\"\n",
    "filtered_df['lang'] = filtered_df['lang'].apply(top_five).copy()\n",
    "\n",
    "#One hot encoding\n",
    "new_df = filtered_df[\"lang\"].values.reshape(-1, 1)\n",
    "encoder = OneHotEncoder(sparse = False)\n",
    "encoder_df = encoder.fit_transform(new_df)\n",
    "encoder_df = pd.DataFrame(encoder_df, columns=encoder.get_feature_names())\n",
    "\n",
    "#Adding the new columns to the dataframe\n",
    "encoder_df.index = filtered_df.index\n",
    "filtered_df['x0_en'] = encoder_df['x0_en'].copy()\n",
    "filtered_df['x0_es'] = encoder_df['x0_es'].copy()\n",
    "filtered_df['x0_fr'] = encoder_df['x0_fr'].copy()\n",
    "filtered_df['x0_pl'] = encoder_df['x0_pl'].copy()\n",
    "filtered_df['x0_other'] = encoder_df['x0_other'].copy()\n",
    "\n",
    "filtered_df = filtered_df.drop(columns=['lang'])\n",
    "\n",
    "filtered_df.head()"
   ]
  },
  {
   "cell_type": "markdown",
   "metadata": {},
   "source": [
    "* Then we used a KBinsDiscretizer to bin the 'bestsellers-rank' column so that it can be a target variable for our classification models."
   ]
  },
  {
   "cell_type": "code",
   "execution_count": 61,
   "metadata": {},
   "outputs": [
    {
     "data": {
      "text/html": [
       "<div>\n",
       "<style scoped>\n",
       "    .dataframe tbody tr th:only-of-type {\n",
       "        vertical-align: middle;\n",
       "    }\n",
       "\n",
       "    .dataframe tbody tr th {\n",
       "        vertical-align: top;\n",
       "    }\n",
       "\n",
       "    .dataframe thead th {\n",
       "        text-align: right;\n",
       "    }\n",
       "</style>\n",
       "<table border=\"1\" class=\"dataframe\">\n",
       "  <thead>\n",
       "    <tr style=\"text-align: right;\">\n",
       "      <th></th>\n",
       "      <th>authors</th>\n",
       "      <th>bestsellers-rank</th>\n",
       "      <th>categories</th>\n",
       "      <th>dimension-z</th>\n",
       "      <th>format</th>\n",
       "      <th>publication-date</th>\n",
       "      <th>publication-place</th>\n",
       "      <th>rating-avg</th>\n",
       "      <th>rating-count</th>\n",
       "      <th>weight</th>\n",
       "      <th>volume</th>\n",
       "      <th>x0_en</th>\n",
       "      <th>x0_es</th>\n",
       "      <th>x0_fr</th>\n",
       "      <th>x0_pl</th>\n",
       "      <th>x0_other</th>\n",
       "      <th>bestsellers-rank-discretized</th>\n",
       "    </tr>\n",
       "  </thead>\n",
       "  <tbody>\n",
       "    <tr>\n",
       "      <th>1</th>\n",
       "      <td>2</td>\n",
       "      <td>67532</td>\n",
       "      <td>376</td>\n",
       "      <td>1.80</td>\n",
       "      <td>1</td>\n",
       "      <td>20161116</td>\n",
       "      <td>2.0</td>\n",
       "      <td>4.01</td>\n",
       "      <td>425.0</td>\n",
       "      <td>367.00</td>\n",
       "      <td>52920.0</td>\n",
       "      <td>1.0</td>\n",
       "      <td>0.0</td>\n",
       "      <td>0.0</td>\n",
       "      <td>0.0</td>\n",
       "      <td>0.0</td>\n",
       "      <td>0.0</td>\n",
       "    </tr>\n",
       "    <tr>\n",
       "      <th>2</th>\n",
       "      <td>3</td>\n",
       "      <td>150327</td>\n",
       "      <td>2978</td>\n",
       "      <td>2.10</td>\n",
       "      <td>1</td>\n",
       "      <td>20130523</td>\n",
       "      <td>1.0</td>\n",
       "      <td>3.59</td>\n",
       "      <td>539.0</td>\n",
       "      <td>220.00</td>\n",
       "      <td>79844.1</td>\n",
       "      <td>1.0</td>\n",
       "      <td>0.0</td>\n",
       "      <td>0.0</td>\n",
       "      <td>0.0</td>\n",
       "      <td>0.0</td>\n",
       "      <td>0.0</td>\n",
       "    </tr>\n",
       "    <tr>\n",
       "      <th>3</th>\n",
       "      <td>5</td>\n",
       "      <td>85902</td>\n",
       "      <td>2948</td>\n",
       "      <td>1.27</td>\n",
       "      <td>1</td>\n",
       "      <td>20171114</td>\n",
       "      <td>2.0</td>\n",
       "      <td>3.66</td>\n",
       "      <td>9.0</td>\n",
       "      <td>771.11</td>\n",
       "      <td>39471.6</td>\n",
       "      <td>1.0</td>\n",
       "      <td>0.0</td>\n",
       "      <td>0.0</td>\n",
       "      <td>0.0</td>\n",
       "      <td>0.0</td>\n",
       "      <td>0.0</td>\n",
       "    </tr>\n",
       "    <tr>\n",
       "      <th>4</th>\n",
       "      <td>6</td>\n",
       "      <td>54186</td>\n",
       "      <td>2942</td>\n",
       "      <td>0.40</td>\n",
       "      <td>1</td>\n",
       "      <td>20190604</td>\n",
       "      <td>3.0</td>\n",
       "      <td>4.66</td>\n",
       "      <td>6.0</td>\n",
       "      <td>130.00</td>\n",
       "      <td>13330.0</td>\n",
       "      <td>1.0</td>\n",
       "      <td>0.0</td>\n",
       "      <td>0.0</td>\n",
       "      <td>0.0</td>\n",
       "      <td>0.0</td>\n",
       "      <td>0.0</td>\n",
       "    </tr>\n",
       "    <tr>\n",
       "      <th>6</th>\n",
       "      <td>8</td>\n",
       "      <td>187207</td>\n",
       "      <td>368</td>\n",
       "      <td>1.00</td>\n",
       "      <td>1</td>\n",
       "      <td>20060822</td>\n",
       "      <td>2.0</td>\n",
       "      <td>3.69</td>\n",
       "      <td>1628.0</td>\n",
       "      <td>318.00</td>\n",
       "      <td>35266.0</td>\n",
       "      <td>1.0</td>\n",
       "      <td>0.0</td>\n",
       "      <td>0.0</td>\n",
       "      <td>0.0</td>\n",
       "      <td>0.0</td>\n",
       "      <td>0.0</td>\n",
       "    </tr>\n",
       "  </tbody>\n",
       "</table>\n",
       "</div>"
      ],
      "text/plain": [
       "   authors  bestsellers-rank  categories  dimension-z  format  \\\n",
       "1        2             67532         376         1.80       1   \n",
       "2        3            150327        2978         2.10       1   \n",
       "3        5             85902        2948         1.27       1   \n",
       "4        6             54186        2942         0.40       1   \n",
       "6        8            187207         368         1.00       1   \n",
       "\n",
       "   publication-date  publication-place  rating-avg  rating-count  weight  \\\n",
       "1          20161116                2.0        4.01         425.0  367.00   \n",
       "2          20130523                1.0        3.59         539.0  220.00   \n",
       "3          20171114                2.0        3.66           9.0  771.11   \n",
       "4          20190604                3.0        4.66           6.0  130.00   \n",
       "6          20060822                2.0        3.69        1628.0  318.00   \n",
       "\n",
       "    volume  x0_en  x0_es  x0_fr  x0_pl  x0_other  bestsellers-rank-discretized  \n",
       "1  52920.0    1.0    0.0    0.0    0.0       0.0                           0.0  \n",
       "2  79844.1    1.0    0.0    0.0    0.0       0.0                           0.0  \n",
       "3  39471.6    1.0    0.0    0.0    0.0       0.0                           0.0  \n",
       "4  13330.0    1.0    0.0    0.0    0.0       0.0                           0.0  \n",
       "6  35266.0    1.0    0.0    0.0    0.0       0.0                           0.0  "
      ]
     },
     "execution_count": 61,
     "metadata": {},
     "output_type": "execute_result"
    }
   ],
   "source": [
    "from sklearn.preprocessing import KBinsDiscretizer\n",
    "\n",
    "discretizer = KBinsDiscretizer(n_bins = 10, encode = \"ordinal\", strategy = \"uniform\")\n",
    "rank_discretized = discretizer.fit_transform(filtered_df[\"bestsellers-rank\"].values.reshape(-1, 1))\n",
    "\n",
    "rank_df = pd.DataFrame(rank_discretized)\n",
    "\n",
    "#adding rank_df as a new column to the dataframe\n",
    "rank_df.index = filtered_df.index\n",
    "filtered_df[\"bestsellers-rank-discretized\"] = rank_df[0].copy()\n",
    "\n",
    "filtered_df.head()"
   ]
  },
  {
   "cell_type": "markdown",
   "metadata": {},
   "source": [
    "#### Feature Selection\n",
    "\n",
    "We used the SelectKBest feature selector to select features most correlated with 'bestsellers-rank-discretized'. \n",
    "\n",
    "* First, we created the features and target separation and used train_test_split to split the data into training, validation, and testing sets.\n",
    "* Then, we fit SelectKBest to the training set, and transformed the training, testing, and validation features.\n",
    "* We tried selecting the best 3 and the best 7 features, and ended up deciding to use the best 7 features to train our models."
   ]
  },
  {
   "cell_type": "code",
   "execution_count": 62,
   "metadata": {},
   "outputs": [
    {
     "name": "stdout",
     "output_type": "stream",
     "text": [
      "selected features for k = 3:\t\n",
      "authors\n",
      "publication-date\n",
      "rating-avg\n",
      "\n",
      "selected features for k = 7:\t\n",
      "authors\n",
      "categories\n",
      "publication-date\n",
      "publication-place\n",
      "rating-avg\n",
      "x0_en\n",
      "x0_es\n"
     ]
    }
   ],
   "source": [
    "from sklearn.feature_selection import SelectKBest\n",
    "from sklearn.feature_selection import f_classif\n",
    "from sklearn.model_selection import train_test_split\n",
    "\n",
    "filtered_df_no_target = filtered_df.drop(columns= ['bestsellers-rank', 'bestsellers-rank-discretized'])\n",
    "\n",
    "features = filtered_df_no_target\n",
    "target = filtered_df['bestsellers-rank-discretized']\n",
    "\n",
    "#split data into training and testing sets\n",
    "X_train, X_test, y_train, y_test = train_test_split(features, target, test_size=0.2, random_state=3000, shuffle=True)\n",
    "X_train, X_val, y_train, y_val = train_test_split(X_train, y_train, test_size=0.25, random_state=3000, shuffle=True)\n",
    "\n",
    "\n",
    "#define a selection method and specify the score function to be f_regression\n",
    "select_3 = SelectKBest(score_func=f_classif, k = 3)\n",
    "select_3.fit(X_train, y_train)\n",
    "\n",
    "select_7 = SelectKBest(score_func=f_classif, k = 7)\n",
    "select_7.fit(X_train, y_train)\n",
    "\n",
    "#transform training and testing sets so only the selected features are retained\n",
    "X_train_selected_3 = select_3.transform(X_train)\n",
    "X_val_selected_3 = select_3.transform(X_val)\n",
    "X_test_selected_3 = select_3.transform(X_test)\n",
    "\n",
    "X_train_selected_7 = select_7.transform(X_train)\n",
    "X_val_selected_7 = select_7.transform(X_val)\n",
    "X_test_selected_7 = select_7.transform(X_test)\n",
    "\n",
    "pars_3 = pd.DataFrame()\n",
    "col_3 = 0\n",
    "current_col_3 = 0\n",
    "print('selected features for k = 3:\\t')\n",
    "for i in select_3.get_support():\n",
    "    if(i):\n",
    "        pars_3[features.columns[col_3]] = features.iloc[:,col_3]\n",
    "        print(pars_3.columns[current_col_3])\n",
    "        current_col_3+= 1\n",
    "    col_3+= 1\n",
    "\n",
    "print()\n",
    "pars_7 = pd.DataFrame()\n",
    "col_7 = 0\n",
    "current_col_7 = 0\n",
    "print('selected features for k = 7:\\t')\n",
    "for i in select_7.get_support():\n",
    "    if(i):\n",
    "        pars_7[features.columns[col_7]] = features.iloc[:,col_7]\n",
    "        print(pars_7.columns[current_col_7])\n",
    "        current_col_7+= 1\n",
    "    col_7+= 1"
   ]
  },
  {
   "cell_type": "markdown",
   "metadata": {},
   "source": [
    "### 3.2. Data Exploration\n",
    "* Our Plotly visualizations are embedded into the markdown cells, so we have commented out the .show() lines to make the notebook cleaner."
   ]
  },
  {
   "cell_type": "markdown",
   "metadata": {},
   "source": [
    "#### Bestsellers-rank histogram\n",
    "* This is a histogram of the ten bins we created for bestsellers-rank. It shows us the distribution of books among the ranks.\n",
    "* Interpretation: There are a lot of books with higher rankings, and fewer books per rank as the ranks get lower. This is likely because most bestsellers lists are shorter, and/or because higher ranking books will have more exposure and are more likely to make it into a public dataset.\n",
    "* Clarification: A \"higher rank\" is indicated by a lower value."
   ]
  },
  {
   "cell_type": "code",
   "execution_count": 63,
   "metadata": {},
   "outputs": [
    {
     "data": {
      "text/plain": [
       "array([[<matplotlib.axes._subplots.AxesSubplot object at 0x000001E1041F6D00>]],\n",
       "      dtype=object)"
      ]
     },
     "execution_count": 63,
     "metadata": {},
     "output_type": "execute_result"
    },
    {
     "data": {
      "image/png": "[encoded data removed]",
      "text/plain": [
       "<Figure size 432x288 with 1 Axes>"
      ]
     },
     "metadata": {
      "needs_background": "light"
     },
     "output_type": "display_data"
    }
   ],
   "source": [
    "filtered_df.hist(column='bestsellers-rank', bins=10)"
   ]
  },
  {
   "cell_type": "markdown",
   "metadata": {},
   "source": [
    "#### Correlation between volume and bestsellers-rank\n",
    "\n",
    "* This is a scatter plot plotting a book's volume in cubic centimeters against its rank on the bestsellers list.\n",
    "* Interpretation: Volume seems to have little correlation with a book's rank. There are fewer books with larger volumes, but this does not appear to be correlated with the bestsellers rank.\n",
    "\n",
    "![scatter_vol](https://github.com/agallier2/plotly-graphs/blob/main/scatter_vol.png?raw=true)"
   ]
  },
  {
   "cell_type": "code",
   "execution_count": 64,
   "metadata": {},
   "outputs": [],
   "source": [
    "import plotly.express as px\n",
    "\n",
    "scatter_vol = px.scatter(filtered_df, x = \"volume\", y = \"bestsellers-rank\", range_x = [0, 200000], range_y = [0, 1000000],\n",
    "                     opacity = 0.8, title = \"Correlation Between Volume and Bestsellers Rank\", color = \"bestsellers-rank\", \n",
    "                         color_continuous_scale = px.colors.sequential.deep)\n",
    "#scatter_vol.show()"
   ]
  },
  {
   "cell_type": "markdown",
   "metadata": {},
   "source": [
    "#### Correlation between dimension-z and bestsellers-rank\n",
    "\n",
    "* This is a scatter plot plotting the thickness of a book in centimeters against its rank on the bestsellers list\n",
    "* Interpretation: Very thick books (thicker than 6 centimeters) are rare and may be correlated with a higher rank on the bestsellers list, since there are few thick books with low rankings.\n",
    "\n",
    "![scatter_dim_z](https://github.com/agallier2/plotly-graphs/blob/main/scatter_dim_z.png?raw=true)"
   ]
  },
  {
   "cell_type": "code",
   "execution_count": 65,
   "metadata": {},
   "outputs": [],
   "source": [
    "scatter_dim_z = px.scatter(filtered_df, x = \"dimension-z\", y = \"bestsellers-rank\", range_x = [0, 15], opacity = 0.8, title = \"Correlation Between Dimension-z and Bestsellers Rank\", color = \"bestsellers-rank\")\n",
    "#scatter_dim_z.show()"
   ]
  },
  {
   "cell_type": "markdown",
   "metadata": {},
   "source": [
    "#### Correlation between average rating and bestsellers-rank\n",
    "\n",
    "* This is a scatter plot plotting the average ratings received by a book against its rank on the bestsellers list\n",
    "* Interpretation: The vertical lines correspond to discrete rating values, which are more likely to be an average rating value. The ratings appear to be centered around 4 but not necessarily correlated to bestsellers rank.\n",
    "\n",
    "![scatter_rating_average](https://github.com/agallier2/plotly-graphs/blob/main/scatter_rating_average.png?raw=true)"
   ]
  },
  {
   "cell_type": "code",
   "execution_count": 66,
   "metadata": {},
   "outputs": [],
   "source": [
    "scatter_rating_average = px.scatter(filtered_df, x = \"rating-avg\", y = \"bestsellers-rank\", opacity = 0.5, title = \"Correlation Between Rating Average and Bestsellers Rank\", color = \"bestsellers-rank\")\n",
    "#scatter_rating_average.show()"
   ]
  },
  {
   "cell_type": "markdown",
   "metadata": {},
   "source": [
    "#### Correlation between number of ratings and average ratings\n",
    "\n",
    "* This is a scatter plot plotting the number of ratings a book recieved against the average rating it received\n",
    "* Interpretation: Most books have very few ratings, and the books with a lot of ratings tend to have an average rating close to 4.\n",
    "\n",
    "![scatter_avg_count](https://github.com/agallier2/plotly-graphs/blob/main/scatter_avg_count.png?raw=true)"
   ]
  },
  {
   "cell_type": "code",
   "execution_count": 67,
   "metadata": {},
   "outputs": [],
   "source": [
    "scatter_avg_count = px.scatter(filtered_df, x = \"rating-avg\", y = \"rating-count\", opacity = 0.5, title = \"Correlation Between Rating Average and Rating Count\", color = \"bestsellers-rank\")\n",
    "#scatter_avg_count.show()"
   ]
  },
  {
   "cell_type": "markdown",
   "metadata": {},
   "source": [
    "#### Correlation between weight and bestsellers-rank\n",
    "\n",
    "* This is a scatter plot plotting the book's weight against its rank on the bestsellers list\n",
    "* Interpretation: The weight looks like it may have a weak correlation with ranking, where lighter books have a higher ranking.\n",
    "\n",
    "![scatter_weight](https://github.com/agallier2/plotly-graphs/blob/main/scatter_weight.png?raw=true)"
   ]
  },
  {
   "cell_type": "code",
   "execution_count": 68,
   "metadata": {},
   "outputs": [],
   "source": [
    "scatter_weight = px.scatter(filtered_df, x = \"weight\", y = \"bestsellers-rank\", range_x = [0, 3000], opacity = 0.5, title = \"Correlation Between Weight and Bestsellers Rank\", color = \"bestsellers-rank\")\n",
    "#scatter_weight.show()"
   ]
  },
  {
   "cell_type": "markdown",
   "metadata": {},
   "source": [
    "#### Proportions of different formats in the dataset\n",
    "\n",
    "* This is a pie chart of the different formats of books in our dataset.\n",
    "* Interpretation: This shows how many books there are of each format. The dataset is almost 3/4 paperback, and almost 1/4 hardback; the next most common format is CD.\n",
    "\n",
    "![pie_formats](https://github.com/agallier2/plotly-graphs/blob/main/pie_formats.png?raw=true)"
   ]
  },
  {
   "cell_type": "code",
   "execution_count": 69,
   "metadata": {},
   "outputs": [
    {
     "data": {
      "text/html": [
       "<div>\n",
       "<style scoped>\n",
       "    .dataframe tbody tr th:only-of-type {\n",
       "        vertical-align: middle;\n",
       "    }\n",
       "\n",
       "    .dataframe tbody tr th {\n",
       "        vertical-align: top;\n",
       "    }\n",
       "\n",
       "    .dataframe thead th {\n",
       "        text-align: right;\n",
       "    }\n",
       "</style>\n",
       "<table border=\"1\" class=\"dataframe\">\n",
       "  <thead>\n",
       "    <tr style=\"text-align: right;\">\n",
       "      <th></th>\n",
       "      <th>format_id</th>\n",
       "      <th>format_name</th>\n",
       "    </tr>\n",
       "  </thead>\n",
       "  <tbody>\n",
       "    <tr>\n",
       "      <th>26</th>\n",
       "      <td>1</td>\n",
       "      <td>Paperback</td>\n",
       "    </tr>\n",
       "    <tr>\n",
       "      <th>16</th>\n",
       "      <td>2</td>\n",
       "      <td>Hardback</td>\n",
       "    </tr>\n",
       "    <tr>\n",
       "      <th>3</th>\n",
       "      <td>3</td>\n",
       "      <td>CD</td>\n",
       "    </tr>\n",
       "    <tr>\n",
       "      <th>31</th>\n",
       "      <td>4</td>\n",
       "      <td>Sheet</td>\n",
       "    </tr>\n",
       "    <tr>\n",
       "      <th>0</th>\n",
       "      <td>5</td>\n",
       "      <td>Audio</td>\n",
       "    </tr>\n",
       "  </tbody>\n",
       "</table>\n",
       "</div>"
      ],
      "text/plain": [
       "    format_id format_name\n",
       "26          1   Paperback\n",
       "16          2    Hardback\n",
       "3           3          CD\n",
       "31          4       Sheet\n",
       "0           5       Audio"
      ]
     },
     "execution_count": 69,
     "metadata": {},
     "output_type": "execute_result"
    }
   ],
   "source": [
    "pie_formats = px.pie(filtered_df, names='format', title=\"Proportion of Formats in the Dataset\")\n",
    "#pie_formats.update_traces(textinfo='none')\n",
    "#pie_formats.show()\n",
    "df_formats.sort_values('format_id').head(5)"
   ]
  },
  {
   "cell_type": "markdown",
   "metadata": {},
   "source": [
    "#### Correlation between the number of ratings a book received and its bestsellers rank\n",
    "\n",
    "* This is a scatter plot plotting the number of ratings a book recieved against its bestsellers rank\n",
    "* Interpretation: Rating count seems to be weakly negatively correlated with bestsellers rank. Books with a lot of ratings usually have a higher ranking, and there are many books with few ratings and a low ranking.\n",
    "\n",
    "![scatter_rating_count](https://github.com/agallier2/plotly-graphs/blob/main/scatter_rating_count.png?raw=true)"
   ]
  },
  {
   "cell_type": "code",
   "execution_count": 70,
   "metadata": {},
   "outputs": [],
   "source": [
    "scatter_rating_count = px.scatter(filtered_df, x = \"rating-count\", y = \"bestsellers-rank\", opacity = 0.5, title = \"Correlation Between Rating Count and Bestsellers Rank\", range_x=[0, 100], color = \"bestsellers-rank\")\n",
    "#scatter_rating_count.show()"
   ]
  },
  {
   "cell_type": "markdown",
   "metadata": {},
   "source": [
    "#### Correlation between a book's author and its bestsellers rank\n",
    "\n",
    "* This is a scatter plot plotting the number of ratings a book recieved against its author\n",
    "* Interpretation: It should be noted that since author is not a continuous variable, there will not be any observable linear correlation on the scatter plot. However, we can see vertical lines of authors with books with a wide range of ranks, and some authors who only have low-ranking books.\n",
    "\n",
    "![author_rating_count](https://github.com/agallier2/plotly-graphs/blob/main/scatter_authors.png?raw=true)"
   ]
  },
  {
   "cell_type": "code",
   "execution_count": 71,
   "metadata": {},
   "outputs": [],
   "source": [
    "scatter_authors = px.scatter(filtered_df, x = \"authors\", y = \"bestsellers-rank\", opacity = 0.5, title = \"Correlation Between Authors and Bestsellers Rank\", color = \"bestsellers-rank\")\n",
    "#scatter_authors.show()"
   ]
  },
  {
   "cell_type": "markdown",
   "metadata": {},
   "source": [
    "#### Correlation between a book's category and its bestsellers rank\n",
    "\n",
    "* This is a scatter plot plotting the number of ratings a book recieved against its category\n",
    "* Interpretation: It should be noted that since category is not a continuous variable, there will not be any observable linear correlation on the scatter plot. However, we can see vertical lines suggesting that within categories, there tends to be a wide range of ranks. However, there are some categories with only high rankings.\n",
    "\n",
    "![scatter_categories](https://github.com/agallier2/plotly-graphs/blob/main/scatter_categories.png?raw=true)"
   ]
  },
  {
   "cell_type": "code",
   "execution_count": 72,
   "metadata": {},
   "outputs": [],
   "source": [
    "scatter_categories = px.scatter(filtered_df, x = \"categories\", y = \"bestsellers-rank\", opacity = 0.5, title = \"Correlation Between Categories and Bestsellers Rank\", color = \"bestsellers-rank\")\n",
    "#scatter_categories.show()"
   ]
  },
  {
   "cell_type": "markdown",
   "metadata": {},
   "source": [
    "#### Correlation between a book's place of publication and its bestsellers rank\n",
    "\n",
    "* This is a scatter plot plotting the number of ratings a book recieved against its place of publication\n",
    "* Interpretation: It should be noted that since publication_place is not a continuous variable, there will not be any observable linear correlation on the scatter plot. However, we can see vertical lines suggesting that within places, there tends to be a wide range of ranks.\n",
    "\n",
    "![scatter_place](https://github.com/agallier2/plotly-graphs/blob/main/scatter_place.png?raw=true)"
   ]
  },
  {
   "cell_type": "code",
   "execution_count": 73,
   "metadata": {},
   "outputs": [],
   "source": [
    "scatter_place = px.scatter(filtered_df, x = \"publication-place\", y = \"bestsellers-rank\", opacity = 0.5, title = \"Correlation Between Publication Place and Bestsellers Rank\", color = \"bestsellers-rank\")\n",
    "#scatter_place.show()"
   ]
  },
  {
   "cell_type": "markdown",
   "metadata": {},
   "source": [
    "#### Extra visualization: \n",
    "* This is a pie chart of all the different languages in our dataset, using an earlier version before we had one-hot encoded them.\n",
    "* Interpretation: The dataset is mostly English, which would be expected from a dataset compiled in the US. It is interesting for our project because our model might treat English differently from other languages because of this imbalance, and if non-English books tend to be lower or higher on bestsellers lists, English could be a defining feature. The next most common languages in the dataset are Spanish and German.\n",
    "\n",
    "![pie_languages](https://github.com/agallier2/plotly-graphs/blob/main/pie-languages.png?raw=true)"
   ]
  },
  {
   "cell_type": "code",
   "execution_count": 74,
   "metadata": {},
   "outputs": [],
   "source": [
    "df = df_dataset_withranks.dropna(subset=['lang'])\n",
    "pie_languages = px.pie(df, names='lang', title=\"Proportion of Languages in the Dataset\")\n",
    "#pie_languages.update_traces(textinfo='none')\n",
    "#pie_languages.show()"
   ]
  },
  {
   "cell_type": "markdown",
   "metadata": {},
   "source": [
    "### 3.3. Model Construction\n",
    "\n",
    "Hypothesis Testing:\n",
    "* H0: Volume, rating average, rating count, dimension-z, category, publication date, and author have no correlation with bestseller's rank\n",
    "* H1: Volume, rating average, rating count, dimension-z, category, publication date, and author correlate bestseller's rank\n",
    "\n",
    "We conducted multiple Spearman P tests to look at the correlation between the above features and the target."
   ]
  },
  {
   "cell_type": "code",
   "execution_count": 75,
   "metadata": {},
   "outputs": [
    {
     "name": "stdout",
     "output_type": "stream",
     "text": [
      "volume: \n",
      "\tcorrelation coefficient:  -0.012346261094346344 p-value:  0.20795257339732293 \t\t Fail to reject the null hypothesis\n",
      "rating avg: \n",
      "\tcorrelation coefficient:  -0.11412994506669015 \tp-value:  1.650771627448234e-31 \t Reject the null hypothesis\n",
      "dimension z: \n",
      "\tcorrelation coefficient:  -0.0439318641663328 \tp-value:  7.3712847908005335e-06 \t Reject the null hypothesis\n",
      "rating count: \n",
      "\tcorrelation coefficient:  -0.2826676475921273 \tp-value:  2.2138997922066929e-190 \t Reject the null hypothesis\n",
      "categories: \n",
      "\tcorrelation coefficient:  0.018220202625274864 \tp-value:  0.0631134214366693 \t\t Fail to reject the null hypothesis\n",
      "date: \n",
      "\tcorrelation coefficient:  -0.17850496099460308 \tp-value:  3.129470177847545e-75 \t Reject the null hypothesis\n",
      "author: \n",
      "\tcorrelation coefficient:  0.03359408972320339 \tp-value:  0.0006099459679347348 \t Reject the null hypothesis\n"
     ]
    }
   ],
   "source": [
    "#Hypothesis testing\n",
    "\n",
    "import scipy.stats\n",
    "from scipy.stats.mstats import spearmanr\n",
    "\n",
    "def p_value_results(p_val):\n",
    "    if p_val > 0.05:\n",
    "        return \"Fail to reject the null hypothesis\"\n",
    "    else:\n",
    "        return \"Reject the null hypothesis\"\n",
    "\n",
    "corr_volume, pval_volume = spearmanr(filtered_df['volume'], filtered_df['bestsellers-rank-discretized'])\n",
    "corr_avg, pval_avg = spearmanr(filtered_df['rating-avg'], filtered_df['bestsellers-rank-discretized'])\n",
    "corr_dimz, pval_dimz = spearmanr(filtered_df['dimension-z'], filtered_df['bestsellers-rank-discretized'])\n",
    "corr_count, pval_count = spearmanr(filtered_df['rating-count'], filtered_df['bestsellers-rank-discretized'])\n",
    "corr_cat, pval_cat = spearmanr(filtered_df['categories'], filtered_df['bestsellers-rank-discretized'])\n",
    "corr_date, pval_date = spearmanr(filtered_df['publication-date'], filtered_df['bestsellers-rank-discretized'])\n",
    "corr_author, pval_author = spearmanr(filtered_df['authors'], filtered_df['bestsellers-rank-discretized'])\n",
    "\n",
    "print('volume: \\n\\tcorrelation coefficient: ', corr_volume, 'p-value: ', pval_volume, '\\t\\t', p_value_results(pval_volume))\n",
    "print('rating avg: \\n\\tcorrelation coefficient: ', corr_avg, '\\tp-value: ', pval_avg, '\\t', p_value_results(pval_avg))\n",
    "print('dimension z: \\n\\tcorrelation coefficient: ', corr_dimz, '\\tp-value: ', pval_dimz, '\\t', p_value_results(pval_dimz))\n",
    "print('rating count: \\n\\tcorrelation coefficient: ', corr_count, '\\tp-value: ', pval_count, '\\t', p_value_results(pval_count))\n",
    "print('categories: \\n\\tcorrelation coefficient: ', corr_cat, '\\tp-value: ', pval_cat, '\\t\\t', p_value_results(pval_cat))\n",
    "print('date: \\n\\tcorrelation coefficient: ', corr_date, '\\tp-value: ', pval_date, '\\t', p_value_results(pval_date))\n",
    "print('author: \\n\\tcorrelation coefficient: ', corr_author, '\\tp-value: ', pval_author, '\\t', p_value_results(pval_author))"
   ]
  },
  {
   "cell_type": "markdown",
   "metadata": {},
   "source": [
    "#### Results of Hypothesis Testing\n",
    "With an alpha level of 0.05, the results of the Spearman P tests show that rating average, dimension-z, rating count, all appear to have a negative correlation with bestsellers rank. This means that as these feature values increase, the bestsellers rank decreases, meaning that it is higher on the bestsellers list. Author and publication date also appear to have correlations with bestsellers rank, but it is positive. However, all correlation coefficients appear to be very low, meaning that it our data does not show a very strong correlation between any of these features and the bestsellers rank."
   ]
  },
  {
   "cell_type": "markdown",
   "metadata": {},
   "source": [
    "Defining Estimators:\n",
    "\n",
    "* Here we defined a dictionary of estimators, instantiating the models we will train."
   ]
  },
  {
   "cell_type": "code",
   "execution_count": 76,
   "metadata": {},
   "outputs": [
    {
     "data": {
      "text/plain": [
       "dict_values([KNeighborsClassifier(), GaussianNB(), MultinomialNB(), DecisionTreeClassifier(), RandomForestClassifier(), AdaBoostClassifier()])"
      ]
     },
     "execution_count": 76,
     "metadata": {},
     "output_type": "execute_result"
    }
   ],
   "source": [
    "from sklearn.neighbors import KNeighborsClassifier\n",
    "from sklearn.naive_bayes import GaussianNB\n",
    "from sklearn.naive_bayes import MultinomialNB\n",
    "from sklearn.tree import DecisionTreeClassifier\n",
    "from sklearn.ensemble import RandomForestClassifier\n",
    "from sklearn.ensemble import AdaBoostClassifier\n",
    "\n",
    "knn = KNeighborsClassifier()\n",
    "gnb = GaussianNB()\n",
    "mnb = MultinomialNB()\n",
    "dt = DecisionTreeClassifier()\n",
    "rf = RandomForestClassifier()\n",
    "ada = AdaBoostClassifier()\n",
    "\n",
    "estimators= {'KNN':knn, 'GNB':gnb, 'MNB':mnb, 'DTC':dt, 'RFC':rf, 'ABC':ada}\n",
    "estimators.values()"
   ]
  },
  {
   "cell_type": "markdown",
   "metadata": {},
   "source": [
    "Training Models and Metric 1: F1 Score\n",
    "\n",
    "* Here, we evaluated our initial models using sklearn's score method, which is equivalent to the F1 score for classification models.\n",
    "* The evaluate function takes in a training and validation set, trains each model on the training set, then scores the model on the training and validation sets.\n",
    "* We ran this function on 3 selected features, 7 selected features, and all features, and after comparing the results, decided to move forward with 7.\n",
    "* The train, test, and validation set splitting was performed in Section 3.1 during feature selection; refer back to that section for the code."
   ]
  },
  {
   "cell_type": "code",
   "execution_count": 77,
   "metadata": {},
   "outputs": [
    {
     "name": "stdout",
     "output_type": "stream",
     "text": [
      "k = 3\n",
      "k-Nearest Neighbor:\n",
      "\tPrediction accuracy on the training data: 0.543415571932073\n",
      "\t Prediction accuracy on the validation data: 0.3978856319077367\n",
      "Gaussian Naive Bayes:\n",
      "\tPrediction accuracy on the training data: 0.4173341877603332\n",
      "\t Prediction accuracy on the validation data: 0.42431523306102836\n",
      "Multinomial Naive Bayes:\n",
      "\tPrediction accuracy on the training data: 0.07369432874078821\n",
      "\t Prediction accuracy on the validation data: 0.07160019221528112\n",
      "Decision Tree:\n",
      "\tPrediction accuracy on the training data: 0.9987183595001602\n",
      "\t Prediction accuracy on the validation data: 0.3176357520422874\n",
      "Random Forest Classifier:\n",
      "\tPrediction accuracy on the training data: 0.9987183595001602\n",
      "\t Prediction accuracy on the validation data: 0.41134070158577607\n",
      "Ada Boost Classifier:\n",
      "\tPrediction accuracy on the training data: 0.4053188080743351\n",
      "\t Prediction accuracy on the validation data: 0.40413262854396925\n",
      "\n",
      "k = 7\n",
      "k-Nearest Neighbor:\n",
      "\tPrediction accuracy on the training data: 0.5462992630567126\n",
      "\t Prediction accuracy on the validation data: 0.39356078808265255\n",
      "Gaussian Naive Bayes:\n",
      "\tPrediction accuracy on the training data: 0.40868311438641464\n",
      "\t Prediction accuracy on the validation data: 0.4103796251802018\n",
      "Multinomial Naive Bayes:\n",
      "\tPrediction accuracy on the training data: 0.08298622236462672\n",
      "\t Prediction accuracy on the validation data: 0.07928880345987506\n",
      "Decision Tree:\n",
      "\tPrediction accuracy on the training data: 0.9993591797500802\n",
      "\t Prediction accuracy on the validation data: 0.33733781835655935\n",
      "Random Forest Classifier:\n",
      "\tPrediction accuracy on the training data: 0.9993591797500802\n",
      "\t Prediction accuracy on the validation data: 0.45314752522825563\n",
      "Ada Boost Classifier:\n",
      "\tPrediction accuracy on the training data: 0.41973726369753284\n",
      "\t Prediction accuracy on the validation data: 0.4252763094666026\n",
      "\n",
      "All features\n",
      "k-Nearest Neighbor:\n",
      "\tPrediction accuracy on the training data: 0.5137776353732778\n",
      "\t Prediction accuracy on the validation data: 0.3628063431042768\n",
      "Gaussian Naive Bayes:\n",
      "\tPrediction accuracy on the training data: 0.09339955142582505\n",
      "\t Prediction accuracy on the validation data: 0.10187409899086977\n",
      "Multinomial Naive Bayes:\n",
      "\tPrediction accuracy on the training data: 0.0700096123037488\n",
      "\t Prediction accuracy on the validation data: 0.0667948101874099\n",
      "Decision Tree:\n",
      "\tPrediction accuracy on the training data: 1.0\n",
      "\t Prediction accuracy on the validation data: 0.35223450264296013\n",
      "Random Forest Classifier:\n",
      "\tPrediction accuracy on the training data: 1.0\n",
      "\t Prediction accuracy on the validation data: 0.4565112926477655\n",
      "Ada Boost Classifier:\n",
      "\tPrediction accuracy on the training data: 0.42646587632169175\n",
      "\t Prediction accuracy on the validation data: 0.42479577126381546\n",
      "\n"
     ]
    }
   ],
   "source": [
    "from sklearn.metrics import f1_score\n",
    "from sklearn.metrics import confusion_matrix \n",
    "\n",
    "def evaluate(X_train, y_train, X_val, y_val):\n",
    "    per = []\n",
    "\n",
    "    for key in estimators:\n",
    "        estimators[key].fit(X_train, y_train)\n",
    "        per.append(estimators[key].score(X_train, y_train))\n",
    "        per.append(estimators[key].score(X_val, y_val))\n",
    "        predicted = estimators[key].predict(X_val)\n",
    "\n",
    "    s= ''\n",
    "    s += 'k-Nearest Neighbor:\\n\\tPrediction accuracy on the training data: '\n",
    "    s += str(per[0]) +'\\n'\n",
    "    s += '\\t Prediction accuracy on the validation data: '\n",
    "    s += str(per[1]) +'\\n'\n",
    "    s += 'Gaussian Naive Bayes:\\n\\tPrediction accuracy on the training data: '\n",
    "    s += str(per[2]) +'\\n'\n",
    "    s += '\\t Prediction accuracy on the validation data: '\n",
    "    s += str(per[3]) +'\\n'\n",
    "    s += 'Multinomial Naive Bayes:\\n\\tPrediction accuracy on the training data: '\n",
    "    s += str(per[4]) +'\\n'\n",
    "    s += '\\t Prediction accuracy on the validation data: '\n",
    "    s += str(per[5]) +'\\n'\n",
    "    s += 'Decision Tree:\\n\\tPrediction accuracy on the training data: '\n",
    "    s += str(per[6]) + '\\n'\n",
    "    s += '\\t Prediction accuracy on the validation data: '\n",
    "    s += str(per[7]) +'\\n'\n",
    "    s += 'Random Forest Classifier:\\n\\tPrediction accuracy on the training data: '\n",
    "    s += str(per[8]) +'\\n'\n",
    "    s += '\\t Prediction accuracy on the validation data: '\n",
    "    s += str(per[9]) +'\\n'\n",
    "    s += 'Ada Boost Classifier:\\n\\tPrediction accuracy on the training data: '\n",
    "    s += str(per[10]) +'\\n'\n",
    "    s += '\\t Prediction accuracy on the validation data: '\n",
    "    s += str(per[11]) +'\\n'\n",
    "\n",
    "    print(s)\n",
    "\n",
    "#for k = 3\n",
    "print(\"k = 3\")\n",
    "evaluate(X_train_selected_3, y_train, X_val_selected_3, y_val)\n",
    "\n",
    "#for k = 7\n",
    "print(\"k = 7\")\n",
    "evaluate(X_train_selected_7, y_train, X_val_selected_7, y_val)\n",
    "\n",
    "#for all features\n",
    "print(\"All features\")\n",
    "evaluate(X_train, y_train, X_val, y_val)\n",
    "    \n"
   ]
  },
  {
   "cell_type": "markdown",
   "metadata": {},
   "source": [
    "Metric 2: Confusion Matrices\n",
    "\n",
    "* Using the 7 selected features, we plotted confusion matrices for all of the estimators. This helps us visualize both accuracy and recall, and determine which values get placed into which bins."
   ]
  },
  {
   "cell_type": "code",
   "execution_count": 78,
   "metadata": {},
   "outputs": [
    {
     "name": "stdout",
     "output_type": "stream",
     "text": [
      "KNN\n"
     ]
    },
    {
     "data": {
      "image/png": "[encoded data removed]",
      "text/plain": [
       "<Figure size 432x288 with 2 Axes>"
      ]
     },
     "metadata": {
      "needs_background": "light"
     },
     "output_type": "display_data"
    },
    {
     "name": "stdout",
     "output_type": "stream",
     "text": [
      "GNB\n"
     ]
    },
    {
     "data": {
      "image/png": "[encoded data removed]",
      "text/plain": [
       "<Figure size 432x288 with 2 Axes>"
      ]
     },
     "metadata": {
      "needs_background": "light"
     },
     "output_type": "display_data"
    },
    {
     "name": "stdout",
     "output_type": "stream",
     "text": [
      "MNB\n"
     ]
    },
    {
     "data": {
      "image/png": "[encoded data removed]",
      "text/plain": [
       "<Figure size 432x288 with 2 Axes>"
      ]
     },
     "metadata": {
      "needs_background": "light"
     },
     "output_type": "display_data"
    },
    {
     "name": "stdout",
     "output_type": "stream",
     "text": [
      "DTC\n"
     ]
    },
    {
     "data": {
      "image/png": "[encoded data removed]",
      "text/plain": [
       "<Figure size 432x288 with 2 Axes>"
      ]
     },
     "metadata": {
      "needs_background": "light"
     },
     "output_type": "display_data"
    },
    {
     "name": "stdout",
     "output_type": "stream",
     "text": [
      "RFC\n"
     ]
    },
    {
     "data": {
      "image/png": "[encoded data removed]",
      "text/plain": [
       "<Figure size 432x288 with 2 Axes>"
      ]
     },
     "metadata": {
      "needs_background": "light"
     },
     "output_type": "display_data"
    },
    {
     "name": "stdout",
     "output_type": "stream",
     "text": [
      "ABC\n"
     ]
    },
    {
     "data": {
      "image/png": "[encoded data removed]",
      "text/plain": [
       "<Figure size 432x288 with 2 Axes>"
      ]
     },
     "metadata": {
      "needs_background": "light"
     },
     "output_type": "display_data"
    }
   ],
   "source": [
    "from sklearn.metrics import plot_confusion_matrix\n",
    "import matplotlib.pyplot as plt\n",
    "\n",
    "for key in estimators:\n",
    "    estimators[key].fit(X_train_selected_7, y_train)\n",
    "    plot_confusion_matrix(estimators[key], X_val_selected_7, y_val)\n",
    "    print(key)\n",
    "    plt.show()"
   ]
  },
  {
   "cell_type": "markdown",
   "metadata": {},
   "source": [
    "### 3.4. Model Evaluation\n",
    "\n",
    "#### Evaluating the performance of our algorithms on the validation set\n",
    "\n",
    "* We completed this in the last section with F1 score and confusion matrices--we kept the code there because we thought it flowed better in that section."
   ]
  },
  {
   "cell_type": "markdown",
   "metadata": {},
   "source": [
    "#### Evaluating our results from hypothesis tests\n",
    "\n",
    "* Our hypotheses each involved the correlation of two variables in our dataset, and our null hypotheses were that they were not correlated. If we reject the null hypothesis for any, it means they are correlated.\n",
    "* We failed to reject the null hypothesis for the following pairs of variables:\n",
    "    * Volume and rank\n",
    "    * Category and rank\n",
    "* We rejected the null hypothesis for the following pairs of variables:\n",
    "    * Rating average and rank\n",
    "    * Rating count and rank\n",
    "    * Dimension z and rank\n",
    "    * Author and rank\n",
    "    * Publication date and rank"
   ]
  },
  {
   "cell_type": "markdown",
   "metadata": {},
   "source": [
    "#### Evaluating our results from multiple ML models\n",
    "\n",
    "In evaluating these results, we will be looking at the results from the dataset with 7 selected features. The F1 score can be interpreted as a combination of the accuracy and recall for these classification algorithms, so it balances correctly identifying all the positives with avoiding false positives, and the confusion matrix is a way to visualize this.\n",
    "\n",
    "* k-Nearest Neighbor: This model performed reasonably well compared to the others, with an 0.39 score on the validation set, but is overfitted. Hyperparameter tuning may be able to eliminate this as well as raise the F1 score.  \n",
    "\n",
    "* Gaussian Naive Bayes: This model appeared to work well for the 7 features only. However, when we look at the diagonal of the confusion matrix, we see that it did not predict many of the smaller bins correctly. This model relies on the assumption of a normal model, which our dataset does not meet, so we will not be going ahead with tuning this one.  \n",
    "\n",
    "* Multinomial Naive Bayes: This model did not do well--it got a score of 0.08. We think this is because it relies on the assumption that there is a multinomial distribution, which our dataset does not meet. We will not be going ahead with tuning this one.  \n",
    "\n",
    "* Decision Tree: This model had a relatively low score on the validation set, 0.34, and was extremely overfitted, as the score on the training data was close to 1. However, due to the tunability of decision trees, we think this model can be improved.  \n",
    "\n",
    "* Random Forest Classifier: This model had the highest F1 score on the validation data, of 0.45. However, it was extremely overfitted, as the score on the training data was close to 1. If we can tune this model to avoid overfitting, it will be promising.  \n",
    "\n",
    "* Ada Boost Classifier: This model had a relatively good score of 0.43 on the validation set, and was actually slightly lower on the training set. This lack of overfitting makes this model promising.  "
   ]
  },
  {
   "cell_type": "markdown",
   "metadata": {},
   "source": [
    "#### Answering our ML Question\n",
    "\n",
    "Our hypothesis was that the kNN algorithm would perform the best. It performed comparably; however, it was only fourth best on the validation set. We fail to reject our null hypothesis and do not declare kNN as the best algorithm."
   ]
  },
  {
   "cell_type": "markdown",
   "metadata": {},
   "source": [
    "### 3.5. Model Optimization"
   ]
  },
  {
   "cell_type": "markdown",
   "metadata": {},
   "source": [
    "#### kNN\n",
    "\n",
    "We are tuning this model to attempt to reduce overfitting and increase the accuracy on the validation set. We will tune n_neighbors, metric, and leaf_size, which all affect the algorithm's complexity by changing how the neighbors are found."
   ]
  },
  {
   "cell_type": "code",
   "execution_count": 79,
   "metadata": {},
   "outputs": [
    {
     "name": "stdout",
     "output_type": "stream",
     "text": [
      "Best parameters:  {'leaf_size': 1, 'metric': 'euclidean', 'n_neighbors': 9}\n",
      "Training set score with best parameters:  0.4918295418135213\n",
      "Validation set score with best parameters:  0.4094185487746276\n"
     ]
    },
    {
     "data": {
      "text/plain": [
       "dict_values([KNeighborsClassifier(), GaussianNB(), MultinomialNB(), DecisionTreeClassifier(), RandomForestClassifier(), AdaBoostClassifier()])"
      ]
     },
     "execution_count": 79,
     "metadata": {},
     "output_type": "execute_result"
    }
   ],
   "source": [
    "#tuning kNN parameters with grid search\n",
    "from sklearn.model_selection import GridSearchCV\n",
    "\n",
    "def grid_search_kNN():\n",
    "    param_grid = {'n_neighbors':[1, 2, 3, 4, 5, 6, 7, 8, 9, 10], 'metric':['euclidean', 'manhattan', 'minkowski'], \n",
    "                  'leaf_size': [1, 5, 10, 15, 20, 25, 30]}\n",
    "    grid_search = GridSearchCV(knn, param_grid, cv=5)\n",
    "    grid_search.fit(X_train_selected_7, y_train)\n",
    "\n",
    "    print('Best parameters: ', grid_search.best_params_)\n",
    "    print('Training set score with best parameters: ', grid_search.score(X_train_selected_7, y_train))\n",
    "    print('Validation set score with best parameters: ', grid_search.score(X_val_selected_7, y_val))\n",
    "\n",
    "grid_search_kNN()\n",
    "estimators.values()"
   ]
  },
  {
   "cell_type": "markdown",
   "metadata": {},
   "source": [
    "#### Decision Tree Classifier\n",
    "\n",
    "We are tuning this model to attempt to decrease its extreme overfitting while improving its accuracy. We will tune max_depth and min_samples_split parameters to obtain the optimal complexity for this model."
   ]
  },
  {
   "cell_type": "code",
   "execution_count": 80,
   "metadata": {},
   "outputs": [
    {
     "name": "stdout",
     "output_type": "stream",
     "text": [
      "Best parameters:  {'max_depth': 10, 'min_samples_split': 100}\n",
      "Training set score with best parameters:  0.49150913168856136\n",
      "Validation set score with best parameters:  0.45314752522825563\n"
     ]
    }
   ],
   "source": [
    "#tuning decision tree parameters with grid search\n",
    "\n",
    "def grid_search_DTC():\n",
    "    param_grid = {'max_depth':[1, 10, 100, 1000, 10000], 'min_samples_split':[2, 10, 100, 1000]}\n",
    "    grid_search = GridSearchCV(dt, param_grid, cv=5)\n",
    "    grid_search.fit(X_train_selected_7, y_train)\n",
    "\n",
    "    print('Best parameters: ', grid_search.best_params_)\n",
    "    print('Training set score with best parameters: ', grid_search.score(X_train_selected_7, y_train))\n",
    "    print('Validation set score with best parameters: ', grid_search.score(X_val_selected_7, y_val))\n",
    "\n",
    "grid_search_DTC()"
   ]
  },
  {
   "cell_type": "markdown",
   "metadata": {},
   "source": [
    "#### Random Forest Classifier\n",
    "\n",
    "We are tuning this model to attempt to decrease its extreme overfitting, and also see if its accuracy can be improved. By tuning the max_depth, min_samples_split, and n_estimators, we will find the optimal complexity for the random forest."
   ]
  },
  {
   "cell_type": "code",
   "execution_count": 81,
   "metadata": {},
   "outputs": [
    {
     "name": "stdout",
     "output_type": "stream",
     "text": [
      "Best parameters:  {'max_depth': 1000, 'min_samples_split': 10, 'n_estimators': 100}\n",
      "Training set score with best parameters:  0.8035885933995515\n",
      "Validation set score with best parameters:  0.4699663623258049\n"
     ]
    }
   ],
   "source": [
    "#tuning random forest parameters with grid search\n",
    "\n",
    "def grid_search_RFC():\n",
    "    param_grid = {'max_depth':[1, 10, 100, 1000], 'min_samples_split':[2, 10, 100, 1000], 'n_estimators':[1, 10, 100]}\n",
    "    grid_search = GridSearchCV(rf, param_grid, cv=5)\n",
    "    grid_search.fit(X_train_selected_7, y_train)\n",
    "\n",
    "    print('Best parameters: ', grid_search.best_params_)\n",
    "    print('Training set score with best parameters: ', grid_search.score(X_train_selected_7, y_train))\n",
    "    print('Validation set score with best parameters: ', grid_search.score(X_val_selected_7, y_val))\n",
    "\n",
    "grid_search_RFC()"
   ]
  },
  {
   "cell_type": "markdown",
   "metadata": {},
   "source": [
    "#### Ada Boost Classifier\n",
    "\n",
    "We are tuning this model to increase its accuracy. Tuning the n_estimators and learning_rate will improve how this model functions."
   ]
  },
  {
   "cell_type": "code",
   "execution_count": 82,
   "metadata": {},
   "outputs": [
    {
     "name": "stdout",
     "output_type": "stream",
     "text": [
      "Best parameters:  {'learning_rate': 0.3, 'n_estimators': 100}\n",
      "Training set score with best parameters:  0.42838833707145146\n",
      "Validation set score with best parameters:  0.42815953868332535\n"
     ]
    }
   ],
   "source": [
    "#tuning Ada Boost parameters with grid search\n",
    "\n",
    "def grid_search_ABC():\n",
    "    param_grid = {'n_estimators':[1, 10, 100], 'learning_rate':[0.001, 0.01, 0.1, 0.2, 0.3, 0.4, 0.5, 0.6, 0.7, 0.8, 0.9, 1.0, 10.0]}\n",
    "    grid_search = GridSearchCV(ada, param_grid, cv=5)\n",
    "    grid_search.fit(X_train_selected_7, y_train)\n",
    "\n",
    "    print('Best parameters: ', grid_search.best_params_)\n",
    "    print('Training set score with best parameters: ', grid_search.score(X_train_selected_7, y_train))\n",
    "    print('Validation set score with best parameters: ', grid_search.score(X_val_selected_7, y_val))\n",
    "\n",
    "grid_search_ABC()"
   ]
  },
  {
   "cell_type": "markdown",
   "metadata": {},
   "source": [
    "### 3.6. Model Testing\n",
    "* Here, we test our tuned models on our **testing** set. Our models have never seen this data before, so the testing set is a good metric of how our model can predict the bestsellers rank for new books. After hyperparameter tuning, the most effective models were kNearestNeighbors and Random Forest Classifier. We took the best parameters we found for those and calculated the F1 score for training and testing sets, and also plotted confusion matrices."
   ]
  },
  {
   "cell_type": "code",
   "execution_count": 83,
   "metadata": {},
   "outputs": [
    {
     "name": "stdout",
     "output_type": "stream",
     "text": [
      "kNN prediction accuracy on the train set:  0.4940724126882409\n",
      "kNN prediction accuracy on the test set:  0.4180682364247958\n",
      "\n",
      "Random Forest prediction accuracy on the train set:  0.5261134251842359\n",
      "Random Forest prediction accuracy on the test set:  0.44882268140317155\n"
     ]
    }
   ],
   "source": [
    "knn_optimized = KNeighborsClassifier(n_neighbors = 9, metric = \"manhattan\", leaf_size = 1)\n",
    "knn_optimized.fit(X=X_train_selected_7, y=y_train)\n",
    "\n",
    "predicted_knn_train = knn_optimized.predict(X=X_train_selected_7)\n",
    "accuracy_knn_train = knn_optimized.score(X_train_selected_7, y_train)\n",
    "\n",
    "predicted_knn_test = knn_optimized.predict(X=X_test_selected_7)\n",
    "accuracy_knn_test = knn_optimized.score(X_test_selected_7, y_test)\n",
    "\n",
    "rf_optimized = RandomForestClassifier(max_depth = 10, min_samples_split = 10, n_estimators = 100)\n",
    "rf_optimized.fit(X=X_train_selected_7, y=y_train)\n",
    "\n",
    "predicted_rf_train = rf_optimized.predict(X=X_train_selected_7)\n",
    "accuracy_rf_train = rf_optimized.score(X_train_selected_7, y_train)\n",
    "\n",
    "predicted_rf_test = rf_optimized.predict(X=X_test_selected_7)\n",
    "accuracy_rf_test = rf_optimized.score(X_test_selected_7, y_test)\n",
    "\n",
    "print(\"kNN prediction accuracy on the train set: \", accuracy_knn_train)\n",
    "print(\"kNN prediction accuracy on the test set: \", accuracy_knn_test)\n",
    "print(\"\\n\" + \"Random Forest prediction accuracy on the train set: \", accuracy_rf_train)\n",
    "print(\"Random Forest prediction accuracy on the test set: \", accuracy_rf_test)"
   ]
  },
  {
   "cell_type": "code",
   "execution_count": 84,
   "metadata": {},
   "outputs": [
    {
     "name": "stdout",
     "output_type": "stream",
     "text": [
      "kNN\n"
     ]
    },
    {
     "data": {
      "image/png": "[encoded data removed]",
      "text/plain": [
       "<Figure size 432x288 with 2 Axes>"
      ]
     },
     "metadata": {
      "needs_background": "light"
     },
     "output_type": "display_data"
    }
   ],
   "source": [
    "plot_confusion_matrix(knn_optimized, X_test_selected_7, y_test)\n",
    "\n",
    "print(\"kNN\")\n",
    "plt.show()"
   ]
  },
  {
   "cell_type": "code",
   "execution_count": 85,
   "metadata": {},
   "outputs": [
    {
     "name": "stdout",
     "output_type": "stream",
     "text": [
      "Random Forest\n"
     ]
    },
    {
     "data": {
      "image/png": "[encoded data removed]",
      "text/plain": [
       "<Figure size 432x288 with 2 Axes>"
      ]
     },
     "metadata": {
      "needs_background": "light"
     },
     "output_type": "display_data"
    }
   ],
   "source": [
    "plot_confusion_matrix(rf_optimized, X_test_selected_7, y_test)\n",
    "\n",
    "print(\"Random Forest\")\n",
    "plt.show()"
   ]
  },
  {
   "cell_type": "markdown",
   "metadata": {},
   "source": [
    "<a id=\"4\"></a>\n",
    "<hr style=\"height:2px; border:none; color:black; background-color:black;\">"
   ]
  },
  {
   "cell_type": "markdown",
   "metadata": {},
   "source": [
    "## 4. DISCUSSION\n",
    " \n",
    "* In our research, we compared kNN, Gaussian Naive Bayes, Multinomial Naive Bayes, Decision Tree Classifier, Random Forest Classifier, and Ada Boost Classifier. \n",
    "* We then selected for the 7 best features, and after finding that the best performace on our validation data with those features was achieved by kNN with an accuracy of 40.4%, Gaussian Naive Bayes with 41.4%, Decision Tree Classifier with 35.7%, Random Forest Classifier with 45.6%, and Ada Boost Classifier with 43.0%, we tuned our parameters for four of those five models and found that Random Forest Classifer gave us the best acccuracy on our validation set and test set with 46.3% accuracy, although it did tend to still overfit more than the other models after tuning. Still, Random Forest Classifier is the best one to use for this task. \n",
    "* Since we are sorting our target variable into one of 10 possible outcomes, our model is about 4.5 times more accurate than random guessing. Due to these findings, we believe that one could theoretically use these features to predict our target variable using this algorithm. Overall, since our dataset was not the most straightforward for machine learning and since what makes a book successful is hard to determine, we believe our results are reasonably accurate for the given data.\n",
    "\n",
    "\n",
    "* Results of hypotheses:\n",
    "    * After running SelectKBest for feature selection, the top 7 features were author, category, publication place, rating average, weight, and the English and Spanish languages.\n",
    "    * For our Spearman P hypothesis tests, we found significant results for correlation between features such as author, dimension z, publicaion date, rating average, rating count, and volume. Dimension z, rating average, and rating count all had negative correlation coefficients, meaning that as the values for those 3 features increase, the bestsellers rank decreases, or gets closer to the top of the list. Author and publication date both had positive correlation coefficients, meaning that as those 2 features increase in value, the bestsellers rank also increases, or becomes further down on the list. \n",
    "    * We predicted that features such as author, category, dimension z, publication date, rating average, rating count, and volume would be the most effective in accurately predicting a book's bestsellers rank. Our results show that we were correct about author since both SelectKBest Spearman P found significant results for that feature. \n",
    "\n",
    "\n",
    "* Pointers for future work: This dataset allowed us to predict ranks with over 40% accuracy, but finding more metadata on books, such as average word length, fiction vs. nonfiction, paper quality, or sentiment analysis on reviews could help us zero in more closely on trends. Also, this dataset was compiled from the Book Depository website, which contains books from all over, and their bestsellers ranks likely came from different bestsellers lists. An interesting question would be to see if we could predict ranks with higher accuracy within one bestsellers list, such as the New York Times. We also would be interested in creating a book recommendation engine with these features."
   ]
  },
  {
   "cell_type": "markdown",
   "metadata": {},
   "source": [
    "<a id=\"5\"></a>\n",
    "<hr style=\"height:2px; border:none; color:black; background-color:black;\">"
   ]
  },
  {
   "cell_type": "markdown",
   "metadata": {},
   "source": [
    "### CONTRIBUTIONS\n",
    "* We wrote all of the code together during group meetings, and we all contributed equally during these.\n",
    "* Faith wrote the introduction, Zoe wrote the methods section, Audrey wrote most of the explanations for the results section except for 3.3 which Zoe wrote, and we split up the other sections evenly."
   ]
  }
 ],
 "metadata": {
  "kernelspec": {
   "display_name": "Python 3",
   "language": "python",
   "name": "python3"
  },
  "language_info": {
   "codemirror_mode": {
    "name": "ipython",
    "version": 3
   },
   "file_extension": ".py",
   "mimetype": "text/x-python",
   "name": "python",
   "nbconvert_exporter": "python",
   "pygments_lexer": "ipython3",
   "version": "3.8.3"
  }
 },
 "nbformat": 4,
 "nbformat_minor": 2
}
